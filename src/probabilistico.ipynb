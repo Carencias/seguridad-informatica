{
 "metadata": {
  "language_info": {
   "codemirror_mode": {
    "name": "ipython",
    "version": 3
   },
   "file_extension": ".py",
   "mimetype": "text/x-python",
   "name": "python",
   "nbconvert_exporter": "python",
   "pygments_lexer": "ipython3",
   "version": "3.9.0"
  },
  "orig_nbformat": 2,
  "kernelspec": {
   "name": "python390jvsc74a57bd063fd5069d213b44bf678585dea6b12cceca9941eaf7f819626cde1f2670de90d",
   "display_name": "Python 3.9.0 64-bit"
  },
  "metadata": {
   "interpreter": {
    "hash": "63fd5069d213b44bf678585dea6b12cceca9941eaf7f819626cde1f2670de90d"
   }
  }
 },
 "nbformat": 4,
 "nbformat_minor": 2,
 "cells": [
  {
   "source": [
    "<h2>Blum-Goldwasser Probabilistic Encryption</h2>"
   ],
   "cell_type": "markdown",
   "metadata": {}
  },
  {
   "cell_type": "code",
   "execution_count": 103,
   "metadata": {},
   "outputs": [],
   "source": [
    "import numpy \n",
    "import math \n",
    "import random\n",
    "import time"
   ]
  },
  {
   "cell_type": "code",
   "execution_count": 145,
   "metadata": {},
   "outputs": [
    {
     "output_type": "stream",
     "name": "stdout",
     "text": [
      "Clave privada -->  [15, 27, -3, 0]\nClave publica -->  405\n"
     ]
    }
   ],
   "source": [
    "#Umbral a partir del cual consideramos que un numero es \"grande\"\n",
    "umbral = 15\n",
    "#Rango de valores a partir del umbral que se pueden generar\n",
    "rango = 12\n",
    "\n",
    "p, q, a, b = generarClavePrivada(umbral, rango)\n",
    "\n",
    "clavePrivada = [p, q, a, b]\n",
    "clavePublica = p*q\n",
    "\n",
    "print(\"Clave privada --> \", clavePrivada)\n",
    "print(\"Clave publica --> \", clavePublica)\n",
    "\n",
    "\n"
   ]
  },
  {
   "cell_type": "code",
   "execution_count": 137,
   "metadata": {},
   "outputs": [],
   "source": [
    "def generarClavePrivada(umbral, rango):\n",
    "    p=0; q=0\n",
    "\n",
    "    while not cumpleCongruencia(p, 3, 4):\n",
    "        p = random.randint(umbral, umbral+rango)\n",
    "\n",
    "    while not cumpleCongruencia(q, 3, 4)  or p==q: \n",
    "        q = random.randint(umbral, umbral+rango)\n",
    "\n",
    "    a, b = calcularAlgEuclidesExtendido(p, q)\n",
    "\n",
    "    return p, q, a, b"
   ]
  },
  {
   "cell_type": "code",
   "execution_count": 117,
   "metadata": {},
   "outputs": [],
   "source": [
    "def cumpleCongruencia(num, numCongruente, modulo):\n",
    "    return (num%modulo) == (numCongruente%modulo)"
   ]
  },
  {
   "cell_type": "code",
   "execution_count": 60,
   "metadata": {},
   "outputs": [],
   "source": [
    "def calcularAlgEuclidesExtendido(p, q):\n",
    "    restos = [p,q]\n",
    "    listaA = [1,0]\n",
    "    listaB = [0,1]\n",
    "    cocientes = [0,0]\n",
    "\n",
    "    i=2\n",
    "\n",
    "    while(restos[i-1] > 1):\n",
    "        cocientes.append(restos[i-2]//restos[i-1])\n",
    "        restos.append(restos[i-2]%restos[i-1])\n",
    "        listaA.append(listaA[i-2] - cocientes[i] * listaA[i-1])\n",
    "        listaB.append(listaB[i-2] - cocientes[i] * listaB[i-1])\n",
    "        i += 1\n",
    "\n",
    "    if restos.pop()==0:\n",
    "        return b, 0\n",
    "    \n",
    "    return listaA.pop(), listaB.pop()\n"
   ]
  },
  {
   "cell_type": "code",
   "execution_count": null,
   "metadata": {},
   "outputs": [],
   "source": []
  },
  {
   "cell_type": "code",
   "execution_count": null,
   "metadata": {},
   "outputs": [],
   "source": []
  }
 ]
}