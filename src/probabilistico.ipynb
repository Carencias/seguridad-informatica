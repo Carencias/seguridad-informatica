{
 "cells": [
  {
   "cell_type": "markdown",
   "metadata": {},
   "source": [
    "<h2>Blum-Goldwasser Probabilistic Encryption</h2>"
   ]
  },
  {
   "cell_type": "code",
   "execution_count": 2,
   "metadata": {},
   "outputs": [],
   "source": [
    "import numpy \n",
    "import math \n",
    "import random\n",
    "import time"
   ]
  },
  {
   "cell_type": "code",
   "execution_count": 65,
   "metadata": {},
   "outputs": [
    {
     "name": "stdout",
     "output_type": "stream",
     "text": [
      "Clave privada -->  [163, 1867, 126, -11]\n",
      "Clave publica -->  304321\n",
      "[2, 14, 2, 8, 15, 0, 1, 15, 9, 14, 4, 15, 8, 5, 14, 11, 3, 12, 2, 0, 10, 3, 0, 7, 0, 5, 5, 9, 8, 3, 2, 14, 7, 15, 1, 15, 5, 5, 4, 12, 1, 3, 2, 0, 13, 12, 3, 7, 11, 1, 9, 9, 7, 9, 12, 2, 198166]\n",
      "71 503 100 878\n",
      "AÍCBÉJFIFEÉÉCMGHCIÁÍEGILÉCKEHKÁÉIJJFMCBÉÍIGGKÉIGMÁDFDJÁ\n"
     ]
    }
   ],
   "source": [
    "#Umbral a partir del cual consideramos que un numero es \"grande\"\n",
    "umbral = 2\n",
    "#Rango de valores a partir del umbral que se pueden generar\n",
    "rango = 2000\n",
    "\n",
    "p, q, a, b = generarClavePrivada(umbral, rango)\n",
    "\n",
    "clavePrivada = [p, q, a, b]\n",
    "clavePublica = p*q\n",
    "\n",
    "print(\"Clave privada --> \", clavePrivada)\n",
    "print(\"Clave publica --> \", clavePublica)\n",
    "\n",
    "msjClaro = leerFichero(\"msjClaro.txt\")\n",
    "alf = leerFichero(\"alf.txt\")\n",
    "msjCifrado, t = encriptar(msjClaro, alf, clavePublica)\n",
    "print(msjCifrado)\n",
    "\n",
    "#TODO esta comentado porque he hardcodeado la funcion desencriptar para testear\n",
    "msjDescrifrado = desencriptar(p, q, a, b, t, msjCifrado, alf)\n",
    "print(msjDescrifrado)"
   ]
  },
  {
   "cell_type": "code",
   "execution_count": 3,
   "metadata": {},
   "outputs": [],
   "source": [
    "def generarClavePrivada(umbral, rango):\n",
    "    p=0; q=0\n",
    "\n",
    "    while not cumpleCongruencia(p, 3, 4) or not esPrimo(p):\n",
    "        p = random.randint(umbral, umbral+rango)\n",
    "\n",
    "    while not cumpleCongruencia(q, 3, 4)  or p==q or not esPrimo(q): \n",
    "        q = random.randint(umbral, umbral+rango)\n",
    "\n",
    "    a, b = calcularAlgEuclidesExtendido(p, q)\n",
    "    \n",
    "    return p, q, a, b"
   ]
  },
  {
   "cell_type": "code",
   "execution_count": 4,
   "metadata": {},
   "outputs": [],
   "source": [
    "def esPrimo(n):\n",
    "    for i in range(2,int(n**0.5)+1):\n",
    "        if n%i==0:\n",
    "            return False\n",
    "\n",
    "    return True"
   ]
  },
  {
   "cell_type": "code",
   "execution_count": 5,
   "metadata": {},
   "outputs": [],
   "source": [
    "def cumpleCongruencia(num, numCongruente, modulo):\n",
    "    return (num%modulo) == (numCongruente%modulo)"
   ]
  },
  {
   "cell_type": "code",
   "execution_count": 6,
   "metadata": {},
   "outputs": [],
   "source": [
    "def calcularAlgEuclidesExtendido(p, q):\n",
    "    restos = [p,q]\n",
    "    listaA = [1,0]\n",
    "    listaB = [0,1]\n",
    "    cocientes = [0,0]\n",
    "\n",
    "    i=2\n",
    "\n",
    "    while(restos[i-1] > 1):\n",
    "        cocientes.append(restos[i-2]//restos[i-1])\n",
    "        restos.append(restos[i-2]%restos[i-1])\n",
    "        listaA.append(listaA[i-2] - cocientes[i] * listaA[i-1])\n",
    "        listaB.append(listaB[i-2] - cocientes[i] * listaB[i-1])\n",
    "        i += 1\n",
    "\n",
    "    if restos.pop()==0:\n",
    "        return listaB.pop(), 0\n",
    "    \n",
    "    return listaA.pop(), listaB.pop()\n"
   ]
  },
  {
   "cell_type": "code",
   "execution_count": 7,
   "metadata": {},
   "outputs": [],
   "source": [
    "def leerFichero(ruta):\n",
    "    fichero = open(ruta, \"r\", encoding=\"utf8\")\n",
    "    texto = fichero.read()\n",
    "    fichero.close()\n",
    "    return texto"
   ]
  },
  {
   "cell_type": "code",
   "execution_count": 43,
   "metadata": {},
   "outputs": [],
   "source": [
    "def encriptar(msjClaro, alf, n):\n",
    "\n",
    "    k = math.floor(math.log(n,2))\n",
    "    #h es la longitud de los bloques en los que se dividira el mensaje binario\n",
    "    h = math.floor(math.log(k,2))\n",
    "    x = []\n",
    "    c = []\n",
    "\n",
    "    msjBinario = strToBinary(msjClaro, alf)\n",
    "    \n",
    "    bloquesMsjBinario = separarBloques(msjBinario, h)\n",
    "    t = len(bloquesMsjBinario)\n",
    "    #print(\"k: \", k, \" h: \", h)\n",
    "    #print(bloquesMsjBinario)\n",
    "\n",
    "    x.append(inicializarX0(n))\n",
    "\n",
    "    for i in range(1, t+1):\n",
    "        xi = pow(x[i-1], 2, n)\n",
    "        #print(\"xi: \", xi)\n",
    "        x.append(xi)\n",
    "\n",
    "        p = decimalToBinary(x[i], 0)\n",
    "        p = p[len(p)-h:]\n",
    "        #print(\"p: \", p)\n",
    "\n",
    "        ci = int(bloquesMsjBinario[i-1],2)^int(p,2)\n",
    "        #print(\"ci: \", ci)\n",
    "        c.append(ci)\n",
    "    \n",
    "    c.append(pow(x[len(x)-1], 2, n))\n",
    "\n",
    "    return c, t"
   ]
  },
  {
   "cell_type": "code",
   "execution_count": 62,
   "metadata": {},
   "outputs": [],
   "source": [
    "def desencriptar(p, q, a ,b, t, msjCifrado, alf):\n",
    "#def desencriptar():\n",
    "    #OJO el mensaje cifrado se recibe como una lista de numeros\n",
    " #   p=499; q=547; a=-57; b=52; t=5; h=18; msjCifrado = [2,0,12,14,4,139680]\n",
    "    \n",
    "    k = math.floor(math.log(p*q,2))\n",
    "    h = math.floor(math.log(k,2))\n",
    "\n",
    "    d1 = pow((p+1)//4, t+1, p-1)\n",
    "    d2 = pow((q+1)//4, t+1, q-1)\n",
    "    lastX = msjCifrado.pop()\n",
    "    u = pow(lastX, d1, p)\n",
    "    v = pow(lastX, d2, q)\n",
    "    n=p*q\n",
    "\n",
    "    print(d1,d2,u,v)\n",
    "\n",
    "    x = [(v*a*p+u*b*q)%(n)]\n",
    "    m = []\n",
    "\n",
    "    #HASTA AQUI ESTA BIEN\n",
    "    msjBinarioBloque = []\n",
    "    for i in msjCifrado:\n",
    "        msjBinarioBloque.append(decimalToBinary(i,h))\n",
    "    #---\n",
    "    for i in range(1, t):\n",
    "        x.append(pow(x[i-1],2,n))\n",
    "            \n",
    "        p = decimalToBinary(x[i], 0)\n",
    "        p = p[len(p)-h:]\n",
    "\n",
    "        m.append(int(p,2)^int(msjBinarioBloque[i-1],2))\n",
    "    \n",
    "    #AQUI HAY QUE HACER LA SIGUIENTE MOVIDA:\n",
    "    #Usar x0 para construir xi y pi igual que al encriptar \n",
    "    #Obtener el mensaje original --> pi XOR ci\n",
    "    longBinaria = math.ceil(math.log(len(alf),2)) \n",
    "    cadena = ''\n",
    "    binario=[]\n",
    "    simbolos = list(alf)\n",
    "    for i in m:\n",
    "        binario.append(decimalToBinary(i,h))\n",
    "    \n",
    "    for i in binario:\n",
    "        cadena = cadena + alf[int(i, 2)]\n",
    "    return cadena\n"
   ]
  },
  {
   "cell_type": "code",
   "execution_count": 37,
   "metadata": {},
   "outputs": [
    {
     "name": "stdout",
     "output_type": "stream",
     "text": [
      "463 337 20 24\n"
     ]
    },
    {
     "data": {
      "text/plain": [
       "[180537, 193932, 245601, 14]"
      ]
     },
     "execution_count": 37,
     "metadata": {},
     "output_type": "execute_result"
    }
   ],
   "source": [
    "desencriptar()"
   ]
  },
  {
   "cell_type": "code",
   "execution_count": 11,
   "metadata": {},
   "outputs": [],
   "source": [
    "def strToBinary(cadena, alf):\n",
    "    #numero minimo de digitos binarios para representar todas las letras del alfabeto\n",
    "    longBinaria = math.ceil(math.log(len(alf),2)) \n",
    "    cadenaBinaria = ''\n",
    "\n",
    "    for caracter in cadena:\n",
    "        cadenaBinaria += decimalToBinary(alf.find(caracter), longBinaria)\n",
    "\n",
    "    return cadenaBinaria\n",
    "\n"
   ]
  },
  {
   "cell_type": "code",
   "execution_count": 12,
   "metadata": {},
   "outputs": [],
   "source": [
    "def decimalToBinary(caracterNumerico, longBinaria):\n",
    "    bloqueBinario = bin(caracterNumerico)[2:]\n",
    "\n",
    "    if(longBinaria==0):\n",
    "        longBinaria = len(bloqueBinario)\n",
    "\n",
    "    #Rellena con 0s a la izquierda \n",
    "    while(len(bloqueBinario)!=longBinaria):\n",
    "        bloqueBinario = '0' + bloqueBinario\n",
    "    \n",
    "    return bloqueBinario\n"
   ]
  },
  {
   "cell_type": "code",
   "execution_count": 13,
   "metadata": {},
   "outputs": [],
   "source": [
    "def inicializarX0(n):\n",
    "    r = random.randint(1, n-1)\n",
    "    while not tieneInverso(r, n):\n",
    "        r = random.randint(1, n-1)\n",
    "    \n",
    "    return pow(r, 2, n)"
   ]
  },
  {
   "cell_type": "code",
   "execution_count": 14,
   "metadata": {},
   "outputs": [],
   "source": [
    "def tieneInverso(numero, modulo):\n",
    "    \n",
    "    try:\n",
    "        pow(numero,-1,modulo)\n",
    "        return True\n",
    "    except:\n",
    "        return False\n",
    "        \n",
    "    return False"
   ]
  },
  {
   "cell_type": "code",
   "execution_count": 15,
   "metadata": {},
   "outputs": [],
   "source": [
    "def separarBloques(texto, longitudBloque):\n",
    "    temp = list(texto) #Copia\n",
    "    bloques = []\n",
    "\n",
    "    while(temp):\n",
    "        bloque = ''\n",
    "        for i in range(longitudBloque):\n",
    "            if(len(temp)>0):\n",
    "                bloque = temp.pop() + bloque\n",
    "            else:\n",
    "                bloque = '0' + bloque\n",
    "        bloques.insert(0, bloque)\n",
    "\n",
    "    return bloques"
   ]
  },
  {
   "cell_type": "code",
   "execution_count": null,
   "metadata": {},
   "outputs": [],
   "source": []
  },
  {
   "cell_type": "code",
   "execution_count": null,
   "metadata": {},
   "outputs": [],
   "source": []
  }
 ],
 "metadata": {
  "kernelspec": {
   "display_name": "Python 3",
   "language": "python",
   "name": "python3"
  },
  "language_info": {
   "codemirror_mode": {
    "name": "ipython",
    "version": 3
   },
   "file_extension": ".py",
   "mimetype": "text/x-python",
   "name": "python",
   "nbconvert_exporter": "python",
   "pygments_lexer": "ipython3",
   "version": "3.8.5"
  },
  "metadata": {
   "interpreter": {
    "hash": "63fd5069d213b44bf678585dea6b12cceca9941eaf7f819626cde1f2670de90d"
   }
  }
 },
 "nbformat": 4,
 "nbformat_minor": 4
}
