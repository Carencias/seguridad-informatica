{
 "cells": [
  {
   "cell_type": "markdown",
   "metadata": {},
   "source": [
    "<h2>Blum-Goldwasser Probabilistic Encryption</h2>"
   ]
  },
  {
   "cell_type": "code",
   "execution_count": 1,
   "metadata": {},
   "outputs": [],
   "source": [
    "import numpy \n",
    "import math \n",
    "import random\n",
    "import time"
   ]
  },
  {
   "cell_type": "code",
   "execution_count": 26,
   "metadata": {},
   "outputs": [
    {
     "output_type": "stream",
     "name": "stdout",
     "text": [
      "Clave privada -->  [2453507171, 2453654923, 1047592679, -1047529596]\nClave publica -->  6020059948739952833\n[25, 16, 7, 28, 31, 11, 13, 12, 9, 25, 2, 1, 7, 22, 3, 10, 5, 14, 4, 14, 11, 18, 14, 1751598292939483020]\n2392056871 2220478879 418214096 863710871\nAMARCOSDIEGOSANTI\n"
     ]
    }
   ],
   "source": [
    "#Umbral a partir del cual consideramos que un numero es \"grande\"\n",
    "umbral = 2453456325\n",
    "#Rango de valores a partir del umbral que se pueden generar\n",
    "rango = 200000\n",
    "\n",
    "p, q, a, b = generarClavePrivada(umbral, rango)\n",
    "\n",
    "clavePrivada = [p, q, a, b]\n",
    "clavePublica = p*q\n",
    "\n",
    "print(\"Clave privada --> \", clavePrivada)\n",
    "print(\"Clave publica --> \", clavePublica)\n",
    "\n",
    "msjClaro = leerFichero(\"clavePrivadaSinCifrar.txt\")\n",
    "alf = leerFichero(\"alf.txt\")\n",
    "msjCifrado = encriptar(msjClaro, alf, clavePublica)\n",
    "print(msjCifrado)\n",
    "escribirFichero(\"clavePrivadaCifrada.txt\", msjCifrado)\n",
    "\n",
    "msjDescrifrado = desencriptar(p, q, a, b, msjCifrado, alf)\n",
    "print(msjDescrifrado)"
   ]
  },
  {
   "cell_type": "code",
   "execution_count": 2,
   "metadata": {},
   "outputs": [],
   "source": [
    "def generarClavePrivada(umbral, rango):\n",
    "    p=0; q=0\n",
    "\n",
    "    while not cumpleCongruencia(p, 3, 4) or not esPrimo(p):\n",
    "        p = random.randint(umbral, umbral+rango)\n",
    "\n",
    "    while not cumpleCongruencia(q, 3, 4)  or p==q or not esPrimo(q): \n",
    "        q = random.randint(umbral, umbral+rango)\n",
    "\n",
    "    a, b = calcularAlgEuclidesExtendido(p, q)\n",
    "    \n",
    "    return p, q, a, b"
   ]
  },
  {
   "cell_type": "code",
   "execution_count": 3,
   "metadata": {},
   "outputs": [],
   "source": [
    "def esPrimo(n):\n",
    "    for i in range(2,int(n**0.5)+1):\n",
    "        if n%i==0:\n",
    "            return False\n",
    "\n",
    "    return True"
   ]
  },
  {
   "cell_type": "code",
   "execution_count": 4,
   "metadata": {},
   "outputs": [],
   "source": [
    "def cumpleCongruencia(num, numCongruente, modulo):\n",
    "    return (num%modulo) == (numCongruente%modulo)"
   ]
  },
  {
   "cell_type": "code",
   "execution_count": 5,
   "metadata": {},
   "outputs": [],
   "source": [
    "def calcularAlgEuclidesExtendido(p, q):\n",
    "    restos = [p,q]\n",
    "    listaA = [1,0]\n",
    "    listaB = [0,1]\n",
    "    cocientes = [0,0]\n",
    "\n",
    "    i=2\n",
    "\n",
    "    while(restos[i-1] > 1):\n",
    "        cocientes.append(restos[i-2]//restos[i-1])\n",
    "        restos.append(restos[i-2]%restos[i-1])\n",
    "        listaA.append(listaA[i-2] - cocientes[i] * listaA[i-1])\n",
    "        listaB.append(listaB[i-2] - cocientes[i] * listaB[i-1])\n",
    "        i += 1\n",
    "\n",
    "    if restos.pop()==0:\n",
    "        return listaB.pop(), 0\n",
    "    \n",
    "    return listaA.pop(), listaB.pop()\n"
   ]
  },
  {
   "cell_type": "code",
   "execution_count": 6,
   "metadata": {},
   "outputs": [],
   "source": [
    "def leerFichero(ruta):\n",
    "    fichero = open(ruta, \"r\", encoding=\"utf8\")\n",
    "    texto = fichero.read()\n",
    "    fichero.close()\n",
    "    return texto"
   ]
  },
  {
   "cell_type": "code",
   "execution_count": 25,
   "metadata": {},
   "outputs": [],
   "source": [
    "def escribirFichero(ruta, listaMsj):\n",
    "    cadena = \"[\"\n",
    "\n",
    "    for elemento in listaMsj:\n",
    "        cadena += (str(elemento) + \", \")\n",
    "\n",
    "    cadena = cadena[:len(cadena)-2]\n",
    "\n",
    "    cadena += \"]\"\n",
    "\n",
    "    fichero = open(ruta, \"w\", encoding=\"utf8\")\n",
    "    fichero.write(cadena)\n",
    "    fichero.close()"
   ]
  },
  {
   "cell_type": "code",
   "execution_count": 8,
   "metadata": {},
   "outputs": [],
   "source": [
    "def encriptar(msjClaro, alf, n):\n",
    "\n",
    "    k = math.floor(math.log(n,2))\n",
    "    #h es la longitud de los bloques en los que se dividira el mensaje binario\n",
    "    h = math.floor(math.log(k,2))\n",
    "    x = []\n",
    "    c = []\n",
    "\n",
    "    msjBinario = strToBinary(msjClaro, alf)\n",
    "    \n",
    "    bloquesMsjBinario = separarBloques(msjBinario, h)\n",
    "    t = len(bloquesMsjBinario)\n",
    "\n",
    "    x.append(inicializarX0(n))\n",
    "\n",
    "    for i in range(1, t+1):\n",
    "        xi = pow(x[i-1], 2, n)\n",
    "        x.append(xi)\n",
    "\n",
    "        p = decimalToBinary(x[i], 0)\n",
    "        p = p[len(p)-h:]\n",
    "\n",
    "        ci = int(bloquesMsjBinario[i-1],2)^int(p,2)\n",
    "        c.append(ci)\n",
    "    \n",
    "    c.append(pow(x[len(x)-1], 2, n))\n",
    "\n",
    "    return c"
   ]
  },
  {
   "cell_type": "code",
   "execution_count": 27,
   "metadata": {},
   "outputs": [],
   "source": [
    "def desencriptar(p, q, a ,b, msjCifrado, alf):\n",
    "    k = math.floor(math.log(p*q,2))\n",
    "    h = math.floor(math.log(k,2))\n",
    "\n",
    "    lastX = msjCifrado.pop()\n",
    "    msjBinarioBloque = []\n",
    "    for i in msjCifrado:\n",
    "        msjBinarioBloque.append(decimalToBinary(i,h))\n",
    "    t = len(msjBinarioBloque)\n",
    "    \n",
    "    d1 = pow((p+1)//4, t+1, p-1)\n",
    "    d2 = pow((q+1)//4, t+1, q-1)\n",
    "    \n",
    "    u = pow(lastX, d1, p)\n",
    "    v = pow(lastX, d2, q)\n",
    "    n=p*q\n",
    "\n",
    "    print(d1,d2,u,v)\n",
    "\n",
    "    x = [(v*a*p+u*b*q)%(n)]\n",
    "    m = []\n",
    "\n",
    "    for i in range(1, t+1):\n",
    "        xi = pow(x[i-1],2,n)\n",
    "        #print(\"xi: \", xi)\n",
    "        x.append(xi)\n",
    "            \n",
    "        p = decimalToBinary(x[i], 0)\n",
    "        p = p[len(p)-h:]\n",
    "        #print(\"p: \", p)\n",
    "        \n",
    "        #print(\"MSJ: \", msjBinarioBloque[i-1])\n",
    "        m.append(int(p,2)^int(msjBinarioBloque[i-1],2))\n",
    "        \n",
    "    #cambiamos a binario la lista de ints que nos devuelve m. importante que al cambiarlo sea de longitud h el binario\n",
    "    binario=[]\n",
    "    for i in m:\n",
    "        binario.append(decimalToBinary(i,h))\n",
    "    \n",
    "    #traducimos a string\n",
    "    return binaryToString(binario, alf)\n"
   ]
  },
  {
   "cell_type": "code",
   "execution_count": 10,
   "metadata": {},
   "outputs": [],
   "source": [
    "def binaryToString(binario, alf):\n",
    "    #Nos llega una lista con binarios de long h, se une todo y se separa en bloques de longitud dependiente del alfabeto\n",
    "    longBinaria = math.ceil(math.log(len(alf),2)) \n",
    "    cadena = ''\n",
    "    simbolos = list(alf)\n",
    "    binarioStream = ''\n",
    "    for i in binario:\n",
    "        binarioStream = binarioStream + i\n",
    "    \n",
    "    binarioBloque = separarBloques(binarioStream, longBinaria)\n",
    "    #Se traduce cada bloque que representa una posicion y se coge la letra correspondiente\n",
    "    for i in binarioBloque:\n",
    "        cadena = cadena + simbolos[int(i,2)]\n",
    "    return cadena"
   ]
  },
  {
   "cell_type": "code",
   "execution_count": 11,
   "metadata": {},
   "outputs": [],
   "source": [
    "def strToBinary(cadena, alf):\n",
    "    #Numero minimo de digitos binarios para representar todas las letras del alfabeto\n",
    "    longBinaria = math.ceil(math.log(len(alf),2)) \n",
    "    cadenaBinaria = ''\n",
    "\n",
    "    for caracter in cadena:\n",
    "        cadenaBinaria += decimalToBinary(alf.find(caracter), longBinaria)\n",
    "\n",
    "    return cadenaBinaria\n",
    "\n"
   ]
  },
  {
   "cell_type": "code",
   "execution_count": 12,
   "metadata": {},
   "outputs": [],
   "source": [
    "def decimalToBinary(caracterNumerico, longBinaria):\n",
    "    bloqueBinario = bin(caracterNumerico)[2:]\n",
    "\n",
    "    if(longBinaria==0):\n",
    "        longBinaria = len(bloqueBinario)\n",
    "\n",
    "    #Rellena con 0s a la izquierda \n",
    "    while(len(bloqueBinario)!=longBinaria):\n",
    "        bloqueBinario = '0' + bloqueBinario\n",
    "    \n",
    "    return bloqueBinario\n"
   ]
  },
  {
   "cell_type": "code",
   "execution_count": 13,
   "metadata": {},
   "outputs": [],
   "source": [
    "def inicializarX0(n):\n",
    "    r = random.randint(1, n-1)\n",
    "    while not tieneInverso(r, n):\n",
    "        r = random.randint(1, n-1)\n",
    "    \n",
    "    return pow(r, 2, n)"
   ]
  },
  {
   "cell_type": "code",
   "execution_count": 14,
   "metadata": {},
   "outputs": [],
   "source": [
    "def tieneInverso(numero, modulo):\n",
    "    \n",
    "    try:\n",
    "        pow(numero,-1,modulo)\n",
    "        return True\n",
    "    except:\n",
    "        return False\n",
    "        \n",
    "    return False"
   ]
  },
  {
   "cell_type": "code",
   "execution_count": 15,
   "metadata": {},
   "outputs": [],
   "source": [
    "def separarBloques(texto, longitudBloque):\n",
    "    temp = list(texto) #Copia\n",
    "    bloques = []\n",
    "\n",
    "    while(temp):\n",
    "        bloque = ''\n",
    "        for i in range(longitudBloque):\n",
    "            if(len(temp)>0):\n",
    "                bloque = temp.pop() + bloque\n",
    "            else:\n",
    "                bloque = '0' + bloque\n",
    "        bloques.insert(0, bloque)\n",
    "\n",
    "    return bloques"
   ]
  }
 ],
 "metadata": {
  "kernelspec": {
   "name": "python390jvsc74a57bd063fd5069d213b44bf678585dea6b12cceca9941eaf7f819626cde1f2670de90d",
   "display_name": "Python 3.9.0 64-bit"
  },
  "language_info": {
   "codemirror_mode": {
    "name": "ipython",
    "version": 3
   },
   "file_extension": ".py",
   "mimetype": "text/x-python",
   "name": "python",
   "nbconvert_exporter": "python",
   "pygments_lexer": "ipython3",
   "version": "3.9.0"
  },
  "metadata": {
   "interpreter": {
    "hash": "63fd5069d213b44bf678585dea6b12cceca9941eaf7f819626cde1f2670de90d"
   }
  }
 },
 "nbformat": 4,
 "nbformat_minor": 4
}