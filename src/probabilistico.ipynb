{
 "cells": [
  {
   "cell_type": "markdown",
   "metadata": {},
   "source": [
    "<h2>Blum-Goldwasser Probabilistic Encryption</h2>"
   ]
  },
  {
   "cell_type": "code",
   "execution_count": null,
   "metadata": {},
   "outputs": [],
   "source": [
    "import numpy \n",
    "import math \n",
    "import random"
   ]
  },
  {
   "cell_type": "markdown",
   "metadata": {},
   "source": [
    "<h4>Generación de las claves</h4>"
   ]
  },
  {
   "cell_type": "code",
   "execution_count": 51,
   "metadata": {},
   "outputs": [
    {
     "ename": "NameError",
     "evalue": "name 'generatePrivateKey' is not defined",
     "output_type": "error",
     "traceback": [
      "\u001b[1;31m---------------------------------------------------------------------------\u001b[0m",
      "\u001b[1;31mNameError\u001b[0m                                 Traceback (most recent call last)",
      "\u001b[1;32m<ipython-input-51-3d3bfe9587ab>\u001b[0m in \u001b[0;36m<module>\u001b[1;34m\u001b[0m\n\u001b[0;32m      1\u001b[0m \u001b[1;31m#Clave privada p, q, a, b\u001b[0m\u001b[1;33m\u001b[0m\u001b[1;33m\u001b[0m\u001b[1;33m\u001b[0m\u001b[0m\n\u001b[0;32m      2\u001b[0m \u001b[0mnumPrimes\u001b[0m \u001b[1;33m=\u001b[0m \u001b[1;36m2000000\u001b[0m\u001b[1;33m\u001b[0m\u001b[1;33m\u001b[0m\u001b[0m\n\u001b[1;32m----> 3\u001b[1;33m \u001b[0mp\u001b[0m\u001b[1;33m,\u001b[0m \u001b[0mq\u001b[0m\u001b[1;33m,\u001b[0m \u001b[0ma\u001b[0m\u001b[1;33m,\u001b[0m \u001b[0mb\u001b[0m \u001b[1;33m=\u001b[0m \u001b[0mgeneratePrivateKey\u001b[0m\u001b[1;33m(\u001b[0m\u001b[0mnumPrimes\u001b[0m\u001b[1;33m)\u001b[0m\u001b[1;33m\u001b[0m\u001b[1;33m\u001b[0m\u001b[0m\n\u001b[0m\u001b[0;32m      4\u001b[0m \u001b[1;31m#Clave publica n\u001b[0m\u001b[1;33m\u001b[0m\u001b[1;33m\u001b[0m\u001b[1;33m\u001b[0m\u001b[0m\n\u001b[0;32m      5\u001b[0m \u001b[0mn\u001b[0m \u001b[1;33m=\u001b[0m \u001b[0mp\u001b[0m\u001b[1;33m*\u001b[0m\u001b[0mq\u001b[0m\u001b[1;33m\u001b[0m\u001b[1;33m\u001b[0m\u001b[0m\n",
      "\u001b[1;31mNameError\u001b[0m: name 'generatePrivateKey' is not defined"
     ]
    }
   ],
   "source": [
    "#Clave privada p, q, a, b\n",
    "numPrimes = 2000000\n",
    "p, q, a, b = generatePrivateKey(numPrimes)\n",
    "#Clave publica n\n",
    "n = p*q\n",
    "print(\"Clave privada: \"+str(p)+\" \"+str(q)+\" \"+str(a)+\" \"+str(b))\n",
    "print(\"Clave publica: \"+str(n))\n",
    "    "
   ]
  },
  {
   "cell_type": "code",
   "execution_count": null,
   "metadata": {},
   "outputs": [],
   "source": [
    "#Genera un numero de primos introducidos como parametro, los cuales son primos y congruentes con 3 modulo 4\n",
    "def primes(numPrimes):\n",
    "    primes=[]\n",
    "    for num in range(3,numPrimes+1,2):\n",
    "        isprime=True\n",
    "        for factor in range(3,1+int(math.sqrt(num)),2):\n",
    "            if not num % factor: isprime=False; break\n",
    "        if isprime and num%4 == 3: \n",
    "            primes.append(num)\n",
    "    return primes"
   ]
  },
  {
   "cell_type": "code",
   "execution_count": null,
   "metadata": {},
   "outputs": [],
   "source": [
    "def generatePrivateKey(numPrimes):\n",
    "    result = []\n",
    "    #Generación de claves, para ello se necesitan dos numeros primos aleatorios p, q que sean congruentes con 3 modulo 4\n",
    "    primes = primes(numPrimes)\n",
    "    #Cogemos dos numeros primos aleatorios distintos\n",
    "    p = primes[random.randrange(0, len(primes) -1)]\n",
    "    while q == p:\n",
    "        q = primes[random.randrange(0, len(primes) -1)]\n",
    "    #Calculamos a,b de tal manera que ap + bq = 1\n",
    "    \n",
    "    return p, q, a, b"
   ]
  }
 ],
 "metadata": {
  "kernelspec": {
   "display_name": "Python 3",
   "language": "python",
   "name": "python3"
  },
  "language_info": {
   "codemirror_mode": {
    "name": "ipython",
    "version": 3
   },
   "file_extension": ".py",
   "mimetype": "text/x-python",
   "name": "python",
   "nbconvert_exporter": "python",
   "pygments_lexer": "ipython3",
   "version": "3.8.5"
  }
 },
 "nbformat": 4,
 "nbformat_minor": 4
}
