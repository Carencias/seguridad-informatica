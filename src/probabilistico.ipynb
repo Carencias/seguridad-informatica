{
 "metadata": {
  "language_info": {
   "codemirror_mode": {
    "name": "ipython",
    "version": 3
   },
   "file_extension": ".py",
   "mimetype": "text/x-python",
   "name": "python",
   "nbconvert_exporter": "python",
   "pygments_lexer": "ipython3",
   "version": "3.9.0"
  },
  "orig_nbformat": 2,
  "kernelspec": {
   "name": "python390jvsc74a57bd063fd5069d213b44bf678585dea6b12cceca9941eaf7f819626cde1f2670de90d",
   "display_name": "Python 3.9.0 64-bit"
  },
  "metadata": {
   "interpreter": {
    "hash": "63fd5069d213b44bf678585dea6b12cceca9941eaf7f819626cde1f2670de90d"
   }
  }
 },
 "nbformat": 4,
 "nbformat_minor": 2,
 "cells": [
  {
   "source": [
    "<h2>Blum-Goldwasser Probabilistic Encryption</h2>"
   ],
   "cell_type": "markdown",
   "metadata": {}
  },
  {
   "cell_type": "code",
   "execution_count": 8,
   "metadata": {},
   "outputs": [],
   "source": [
    "import numpy \n",
    "import math \n",
    "import random\n",
    "import time"
   ]
  },
  {
   "cell_type": "code",
   "execution_count": 75,
   "metadata": {},
   "outputs": [
    {
     "output_type": "stream",
     "name": "stdout",
     "text": [
      "Clave privada -->  [15, 19, -5, 4]\nClave publica -->  285\n"
     ]
    }
   ],
   "source": [
    "#Umbral a partir del cual consideramos que un numero es \"grande\"\n",
    "umbral = 15\n",
    "#Rango de valores a partir del umbral que se pueden generar\n",
    "rango = 12\n",
    "\n",
    "p, q, a, b = generarClavePrivada(umbral, rango)\n",
    "\n",
    "clavePrivada = [p, q, a, b]\n",
    "clavePublica = p*q\n",
    "\n",
    "print(\"Clave privada --> \", clavePrivada)\n",
    "print(\"Clave publica --> \", clavePublica)\n",
    "\n",
    "msjClaro = leerFichero(\"msjClaro.txt\")\n",
    "alf = leerFichero(\"alf.txt\")\n",
    "msjCifrado = encriptar(msjClaro, alf, clavePublica)\n"
   ]
  },
  {
   "cell_type": "code",
   "execution_count": 4,
   "metadata": {},
   "outputs": [],
   "source": [
    "def generarClavePrivada(umbral, rango):\n",
    "    p=0; q=0\n",
    "\n",
    "    while not cumpleCongruencia(p, 3, 4):\n",
    "        p = random.randint(umbral, umbral+rango)\n",
    "\n",
    "    while not cumpleCongruencia(q, 3, 4)  or p==q: \n",
    "        q = random.randint(umbral, umbral+rango)\n",
    "\n",
    "    a, b = calcularAlgEuclidesExtendido(p, q)\n",
    "\n",
    "    return p, q, a, b"
   ]
  },
  {
   "cell_type": "code",
   "execution_count": 5,
   "metadata": {},
   "outputs": [],
   "source": [
    "def cumpleCongruencia(num, numCongruente, modulo):\n",
    "    return (num%modulo) == (numCongruente%modulo)"
   ]
  },
  {
   "cell_type": "code",
   "execution_count": 6,
   "metadata": {},
   "outputs": [],
   "source": [
    "def calcularAlgEuclidesExtendido(p, q):\n",
    "    restos = [p,q]\n",
    "    listaA = [1,0]\n",
    "    listaB = [0,1]\n",
    "    cocientes = [0,0]\n",
    "\n",
    "    i=2\n",
    "\n",
    "    while(restos[i-1] > 1):\n",
    "        cocientes.append(restos[i-2]//restos[i-1])\n",
    "        restos.append(restos[i-2]%restos[i-1])\n",
    "        listaA.append(listaA[i-2] - cocientes[i] * listaA[i-1])\n",
    "        listaB.append(listaB[i-2] - cocientes[i] * listaB[i-1])\n",
    "        i += 1\n",
    "\n",
    "    if restos.pop()==0:\n",
    "        return b, 0\n",
    "    \n",
    "    return listaA.pop(), listaB.pop()\n"
   ]
  },
  {
   "cell_type": "code",
   "execution_count": 7,
   "metadata": {},
   "outputs": [],
   "source": [
    "def leerFichero(ruta):\n",
    "    fichero = open(ruta, \"r\", encoding=\"utf8\")\n",
    "    texto = fichero.read()\n",
    "    fichero.close()\n",
    "    return texto"
   ]
  },
  {
   "cell_type": "code",
   "execution_count": 74,
   "metadata": {},
   "outputs": [],
   "source": [
    "def encriptar(msjClaro, alf, n):\n",
    "    k = math.trunc(math.log(n))\n",
    "    #h es la longitud de los bloques en los que se dividira el mensaje binario\n",
    "    h = math.trunc(math.log(k))\n",
    "    x = []\n",
    "    c = []\n",
    "\n",
    "    msjBinario = strToBinary(msjClaro, alf)\n",
    "    t = len(msjBinario)\n",
    "\n",
    "    x.append(inicializarX0(n))\n",
    "    for i in range(1, t):\n",
    "        x.append(pow(x[i-1], 2, n))\n",
    "        p = decimalToBinary(x[i], 0)\n",
    "        p = p[len(p)-h:] #COMPROBAR\n",
    "        c.append(0)#TODO HASTA AQUI HE LLEGAO\n",
    "\n",
    "\n",
    "\n"
   ]
  },
  {
   "cell_type": "code",
   "execution_count": 60,
   "metadata": {},
   "outputs": [],
   "source": [
    "def strToBinary(cadena, alf):\n",
    "    #numero minimo de digitos binarios para representar todas las letras del alfabeto\n",
    "    longBinaria = math.ceil(math.log(len(alf),2)) \n",
    "    cadenaBinaria = ''\n",
    "\n",
    "    for caracter in cadena:\n",
    "        cadenaBinaria += decimalToBinary(alf.find(caracter), longBinaria)\n",
    "\n",
    "    return cadenaBinaria\n",
    "\n"
   ]
  },
  {
   "cell_type": "code",
   "execution_count": 71,
   "metadata": {},
   "outputs": [],
   "source": [
    "def decimalToBinary(caracterNumerico, longBinaria):\n",
    "    bloqueBinario = bin(caracterNumerico)[2:]\n",
    "\n",
    "    if(longBinaria==0):\n",
    "        longBinaria = len(bloqueBinario)\n",
    "\n",
    "    #Rellena con 0s a la izquierda \n",
    "    while(len(bloqueBinario)!=longBinaria):\n",
    "        bloqueBinario = '0' + bloqueBinario\n",
    "    \n",
    "    return bloqueBinario\n"
   ]
  },
  {
   "cell_type": "code",
   "execution_count": 69,
   "metadata": {},
   "outputs": [],
   "source": [
    "#TODO hacer que r pertenezca a Zn* (que pertenezca a Zn y tenga inverso?)\n",
    "#ESTA MAAAAL!!!!\n",
    "def inicializarX0(n):\n",
    "    r = random.randint(0, n-1)\n",
    "    return pow(r, 2, n)\n"
   ]
  },
  {
   "cell_type": "code",
   "execution_count": null,
   "metadata": {},
   "outputs": [],
   "source": []
  }
 ]
}