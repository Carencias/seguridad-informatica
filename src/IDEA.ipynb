{
 "metadata": {
  "language_info": {
   "codemirror_mode": {
    "name": "ipython",
    "version": 3
   },
   "file_extension": ".py",
   "mimetype": "text/x-python",
   "name": "python",
   "nbconvert_exporter": "python",
   "pygments_lexer": "ipython3",
   "version": "3.9.2"
  },
  "orig_nbformat": 2,
  "kernelspec": {
   "name": "python392jvsc74a57bd0104ab0b201326c003eb326b253436127765e9423f74595591084a446732f77fa",
   "display_name": "Python 3.9.2 64-bit"
  },
  "metadata": {
   "interpreter": {
    "hash": "104ab0b201326c003eb326b253436127765e9423f74595591084a446732f77fa"
   }
  }
 },
 "nbformat": 4,
 "nbformat_minor": 2,
 "cells": [
  {
   "source": [
    "<h1>IDEA: Un algoritmo de clave privada</h1>\n",
    "\n",
    "<h2> Cifrado de un mensaje, dados los siguientes datos:</h2>\n",
    "<li> Mensaje=\"En un lugar de la Mancha, de cuyo nombre no quiero acordarme\"</li>\n",
    "<li> Clave privada (K) => 128 bits =\"MARCOSDIEGOSANTI\""
   ],
   "cell_type": "markdown",
   "metadata": {}
  },
  {
   "source": [
    "<h2>1. Obtención de los valores binarios del mensaje y la clave </h2>"
   ],
   "cell_type": "markdown",
   "metadata": {}
  },
  {
   "cell_type": "code",
   "execution_count": 1,
   "metadata": {},
   "outputs": [
    {
     "output_type": "stream",
     "name": "stdout",
     "text": [
      "0110111001100011011111111000101010001011100011001000001110010100\n"
     ]
    }
   ],
   "source": [
    "#mensaje_claro=\"En un lugar de la Mancha, de cuyo nombre no quiero acordarme\"\n",
    "mensaje_claro=\"6E637F8A8B8C8394\"\n",
    "#La clave tiene que usar un alfabeto que contenga menos de 128 bits\n",
    "#clave_privada=\"MARCOSDIEGOSANTI\"\n",
    "clave_privada=\"11112222333344445555666677778888\"\n",
    "alf=\"AÁBCDEÉFGHIÍJKLMNÑOÓPQRSTUÚVWXYZ.,;:()¿?¡!-0123456789aábcdeéfghiíjklmnñoópqrstuúvwxyz \"\n",
    "\n",
    "def cadena_a_binario(cadena):\n",
    "    #Conversion a binario de 8 bits\n",
    "    cadena_binaria = \"\".join(format(int(x, 16), '04b') for x in cadena)\n",
    "    #cadena_binaria = \"\".join(format(alf.index(x), '08b') for x in cadena)\n",
    "    return cadena_binaria\n",
    "\n",
    "mensaje_binario = cadena_a_binario(mensaje_claro)\n",
    "clave_binaria = cadena_a_binario(clave_privada)\n",
    "\n",
    "#var = 0b01\n",
    "\n",
    "#aux = clave_binaria[25:]+clave_binaria[:25]\n",
    "#lista = [int(aux[x:x+4], 2) for x in range(0,128,4)]\n",
    "#print(lista)\n",
    "#print(aux)\n",
    "#print(len(aux))\n",
    "#print(var<<1)\n",
    "print(mensaje_binario)\n"
   ]
  },
  {
   "source": [
    "<h2>2. Se divide el mensaje binario en bloques de 64 bits. Cada bloque se divide a su vez en 4 sub-bloques de 16 bits </h2>\n"
   ],
   "cell_type": "markdown",
   "metadata": {}
  },
  {
   "cell_type": "code",
   "execution_count": 2,
   "metadata": {},
   "outputs": [
    {
     "output_type": "stream",
     "name": "stdout",
     "text": [
      "28259\n"
     ]
    }
   ],
   "source": [
    "def binario_a_bloques(cadena, tam_bloque):\n",
    "    lista_bloques = [cadena[x:x+tam_bloque] for x in range(0,len(cadena), tam_bloque)]\n",
    "    len_ultimo_bloque = len(lista_bloques[-1])\n",
    "    #Relleno con 0s si no se alcanza el tamaño del bloque\n",
    "    if(len_ultimo_bloque!=tam_bloque):\n",
    "        lista_bloques[-1] = lista_bloques[-1]+(tam_bloque-len_ultimo_bloque)*\"0\"\n",
    "    return lista_bloques\n",
    "\n",
    "#Mensaje dividido en bloques de 64 bits, que tendrá la forma [ab,cd]\n",
    "mensaje_dividido = binario_a_bloques(mensaje_binario, 64)\n",
    "\n",
    "#Cada sub-bloque lo divido en 4 bloques de 16 bits, guardo el resultado final, que tendrá la forma [[a,b],[c,d]]\n",
    "mensaje_bloques = []\n",
    "for bloque in mensaje_dividido:\n",
    "    mensaje_bloques.append(binario_a_bloques(bloque, 16))\n",
    "\n",
    "print(int(mensaje_bloques[0][0],2))\n",
    "\n"
   ]
  },
  {
   "source": [
    "<h2>3. Se calculan las claves intermedias. Serán un total de 52 subclaves de 16 bits, que se emplearán para cifrar el mensaje</h2>"
   ],
   "cell_type": "markdown",
   "metadata": {}
  },
  {
   "cell_type": "code",
   "execution_count": 3,
   "metadata": {},
   "outputs": [],
   "source": [
    " #Recibe un string de valores binarios\n",
    " def generar_claves_intermedias_cifrado(clave_inicial):\n",
    "     # lista de una dimensión, que contendrá las 52 subclaves\n",
    "     lista_claves = []\n",
    "     #La agrupación será de 6 en 6 subclaves. Las 8 primeras son la clave inicial.\n",
    "     lista_claves.extend(binario_a_bloques(clave_inicial, 16))\n",
    "\n",
    "     while(len(lista_claves)<52):\n",
    "         #Desplazar 25 bits a la izquierda la clave inicial\n",
    "         clave_inicial = clave_inicial[25:]+clave_inicial[:25]\n",
    "         #Bloques de la clave actualizada\n",
    "         lista_claves.extend(binario_a_bloques(clave_inicial, 16))\n",
    "\n",
    "     # lista_claves crece en múltiplos de 8 y es por ello que debemos quedarnos solo con los 52 primeros valores\n",
    "     lista_claves = lista_claves[:52]\n",
    "     #print(lista_claves)\n",
    "     return lista_claves\n",
    "\n",
    "claves_intermedias = generar_claves_intermedias_cifrado(clave_binaria)\n",
    "#print(claves_intermedias)\n"
   ]
  },
  {
   "source": [
    "<h2>4. Aplico el algoritmo de cifrado a cada bloque del mensaje</h2>"
   ],
   "cell_type": "markdown",
   "metadata": {}
  },
  {
   "cell_type": "code",
   "execution_count": 4,
   "metadata": {},
   "outputs": [
    {
     "output_type": "stream",
     "name": "stdout",
     "text": [
      "Mensaje: 0b110111001100011 0b111111110001010 0b1000101110001100 0b1000001110010100 Claves: [4369, 8738, 13107, 17476, 21845, 26214]\nPaso 1: 0b1110000000111000\nPaso 2: 0b1010000110101100\nPaso 3: 0b1011111010111111\nPaso 4: 0b10000000111010\nPaso 5: 0b101111010000111\nPaso 6: 0b1000000110010110\nPaso 7: 0b1011001010001\nPaso 8: 0b1001011111100111\nPaso 9: 0b101001101001000\nPaso 10: 0b110100110011001\nPaso 11: 0b1011001101110000\nPaso 1: 18\nPaso 12: 0b1110110111110111\nPaso 1: 18\nPaso 13: 0b1100100000110101\nPaso 1: 18\nPaso 14: 0b100100110100011\nPaso 1: 17\n[45936, 60919, 51253, 18851]\nMensaje: 0b1011001101110000 0b1110110111110111 0b1100100000110101 0b100100110100011 Claves: [30583, 34952, 17510, 26248, 34986, 43724]\nPaso 1: 0b10010101010100\nPaso 2: 0b111011001111111\nPaso 3: 0b110010011011\nPaso 4: 0b1111001100011011\nPaso 5: 0b10100111001111\nPaso 6: 0b1000010101100100\nPaso 7: 0b1010010100100101\nPaso 8: 0b10101010001001\nPaso 9: 0b1100001011001100\nPaso 10: 0b110011111110001\nPaso 11: 0b1110011110011000\nPaso 1: 18\nPaso 12: 0b1100111001010111\nPaso 1: 18\nPaso 13: 0b1000110001110\nPaso 1: 15\nPaso 14: 0b1001010011101010\nPaso 1: 18\n[59288, 52823, 4494, 38122]\nMensaje: 0b1110011110011000 0b1100111001010111 0b1000110001110 0b1001010011101010 Claves: [52462, 61201, 4130, 8772, 4369, 21845]\nPaso 1: 0b1011010111101101\nPaso 2: 0b1011110101101000\nPaso 3: 0b10000110110000\nPaso 4: 0b1000111000111010\nPaso 5: 0b1001010001011101\nPaso 6: 0b11001101010010\nPaso 7: 0b1111110101001010\nPaso 8: 0b11000010011100\nPaso 9: 0b1101111110011001\nPaso 10: 0b1101110011100011\nPaso 11: 0b110101001110100\nPaso 1: 17\nPaso 12: 0b1111111000101001\nPaso 1: 18\nPaso 13: 0b110000110001011\nPaso 1: 17\nPaso 14: 0b101001011011001\nPaso 1: 17\n[27252, 65065, 24971, 21209]\nMensaje: 0b110101001110100 0b1111111000101001 0b110000110001011 0b101001011011001 Claves: [39321, 56798, 8736, 17476, 34952, 52429]\nPaso 1: 0b1011001101110110\nPaso 2: 0b1101110000000111\nPaso 3: 0b1000001110101011\nPaso 4: 0b1000111110001101\nPaso 5: 0b11000011011101\nPaso 6: 0b101001110001010\nPaso 7: 0b100001101011001\nPaso 8: 0b1001011011100011\nPaso 9: 0b11111100010010\nPaso 10: 0b1000001001101011\nPaso 11: 0b1000110001100100\nPaso 1: 18\nPaso 12: 0b1011110010111001\nPaso 1: 18\nPaso 13: 0b101111001101100\nPaso 1: 17\nPaso 14: 0b110111100110\nPaso 1: 14\n[35940, 48313, 24172, 3558]\nMensaje: 0b1000110001100100 0b1011110010111001 0b101111001101100 0b110111100110 Claves: [43827, 13243, 48196, 16520, 35089, 4505]\nPaso 1: 0b110011000001010\nPaso 2: 0b1111000001110100\nPaso 3: 0b1101010110000\nPaso 4: 0b1101111010110000\nPaso 5: 0b111110010111010\nPaso 6: 0b10111011000100\nPaso 7: 0b1000111110010011\nPaso 8: 0b1011111001010111\nPaso 9: 0b111101111101010\nPaso 10: 0b101101111101\nPaso 11: 0b1110111100000\nPaso 1: 15\nPaso 12: 0b110000101011010\nPaso 1: 17\nPaso 13: 0b1111101100001001\nPaso 1: 18\nPaso 14: 0b1101010111001101\nPaso 1: 18\n[7648, 24922, 64265, 54733]\nMensaje: 0b1110111100000 0b110000101011010 0b1111101100001001 0b1101010111001101 Claves: [39458, 8874, 30584, 34945, 4370, 8739]\nPaso 1: 0b1010010111000100\nPaso 2: 0b1000010000000100\nPaso 3: 0b111001010000001\nPaso 4: 0b11001001001101\nPaso 5: 0b1101011101000101\nPaso 6: 0b1011011001001001\nPaso 7: 0b1010100110000000\nPaso 8: 0b101111111001001\nPaso 9: 0b1011110110110110\nPaso 10: 0b110011100110110\nPaso 11: 0b1100001110010\nPaso 1: 15\nPaso 12: 0b1100111100110111\nPaso 1: 18\nPaso 13: 0b1110001100110010\nPaso 1: 18\nPaso 14: 0b101010101111011\nPaso 1: 17\n[6258, 53047, 58162, 21883]\nMensaje: 0b1100001110010 0b1100111100110111 0b1110001100110010 0b101010101111011 Claves: [13108, 17477, 21846, 26215, 546, 9284]\nPaso 1: 0b1010100001000101\nPaso 2: 0b1001101111100\nPaso 3: 0b11100010001000\nPaso 4: 0b100010001001100\nPaso 5: 0b1001000011001101\nPaso 6: 0b101011100110000\nPaso 7: 0b1101010000000110\nPaso 8: 0b10101100110110\nPaso 9: 0b110000111001\nPaso 10: 0b1110000000111111\nPaso 11: 0b1010010001111100\nPaso 1: 18\nPaso 12: 0b11010010110001\nPaso 1: 16\nPaso 13: 0b1111001101000011\nPaso 1: 18\nPaso 14: 0b1010010001110011\nPaso 1: 18\n[42108, 13489, 62275, 42099]\nMensaje: 0b1010010001111100 0b11010010110001 0b1111001101000011 0b1010010001110011 Claves: [18022, 26760, 35498, 44236, 52974, 61713]\nPaso 1: 0b100010000101101\nPaso 2: 0b1001110100111001\nPaso 3: 0b111110111101101\nPaso 4: 0b1110000010100101\nPaso 5: 0b11100111000000\nPaso 6: 0b111110110011100\nPaso 7: 0b111010010\nPaso 8: 0b111111101101110\nPaso 9: 0b1000110001010000\nPaso 10: 0b1000111000100010\nPaso 11: 0b1100100001111101\nPaso 1: 18\nPaso 12: 0b1111000110111101\nPaso 1: 18\nPaso 13: 0b1001100011011\nPaso 1: 15\nPaso 14: 0b110111010000111\nPaso 1: 17\n[51325, 61885, 4891, 28295]\nIteraciones [45936, 60919, 51253, 18851, 59288, 52823, 4494, 38122, 27252, 65065, 24971, 21209, 35940, 48313, 24172, 3558, 7648, 24922, 64265, 54733, 6258, 53047, 58162, 21883, 42108, 13489, 62275, 42099, 51325, 61885, 4891, 28295]\nResultado [41325, 57324, 722, 6934]\n0xa 0x1 0x6 0xd 0xd 0xf 0xe 0xc 0x0 0x2 0xd 0x2 0x1 0xb 0x1 0x6 [[41325, 57324, 722, 6934]]\n"
     ]
    }
   ],
   "source": [
    "def calcular_iteracion(bloque_numerico, subclaves):\n",
    "        print(\"Mensaje:\",\" \".join(bin(x) for x in bloque_numerico),\"Claves:\", subclaves)\n",
    "        #Paso 1\n",
    "        var1 = (bloque_numerico[0] * subclaves[0])%(2**16+1)\n",
    "\n",
    "        print(\"Paso 1:\", bin(var1))\n",
    "\n",
    "        #Paso 2\n",
    "        var2 = (bloque_numerico[1] + subclaves[1])%(2**16)\n",
    "\n",
    "        print(\"Paso 2:\", bin(var2))\n",
    "\n",
    "        #Paso 3\n",
    "        var3 = (bloque_numerico[2] + subclaves[2])%(2**16)\n",
    "\n",
    "        print(\"Paso 3:\", bin(var3))\n",
    "\n",
    "        #Paso 4\n",
    "        var4 = (bloque_numerico[3] * subclaves[3])%(2**16+1)\n",
    "\n",
    "        print(\"Paso 4:\", bin(var4))\n",
    "\n",
    "        #Paso 5 (XOR entre 1 y 3)\n",
    "        var5 = var1 ^ var3\n",
    "\n",
    "        print(\"Paso 5:\", bin(var5))\n",
    "\n",
    "        #Paso 6 \n",
    "        var6 = var2 ^ var4\n",
    "\n",
    "        print(\"Paso 6:\", bin(var6))\n",
    "\n",
    "        #Paso 7\n",
    "        var7 = (var5 * subclaves[4])%(2**16+1)\n",
    "\n",
    "        print(\"Paso 7:\", bin(var7))\n",
    "\n",
    "        #Paso 8\n",
    "        var8 = (var6 + var7)%(2**16)\n",
    "\n",
    "        print(\"Paso 8:\", bin(var8))\n",
    "\n",
    "        #Paso 9\n",
    "        var9 = (var8 * subclaves[5])%(2**16+1)\n",
    "        \n",
    "        print(\"Paso 9:\", bin(var9))\n",
    "\n",
    "        #Paso 10\n",
    "        var10 = (var7 + var9)%(2**16)\n",
    "\n",
    "        print(\"Paso 10:\", bin(var10))\n",
    "\n",
    "        #Paso 11\n",
    "        var11 = var1 ^ var9\n",
    "\n",
    "        print(\"Paso 11:\", bin(var11))\n",
    "        print(\"Paso 1:\", len(bin(var11)))\n",
    "\n",
    "        #Paso 12\n",
    "        var12 = var3 ^ var9\n",
    "\n",
    "        print(\"Paso 12:\", bin(var12))\n",
    "        print(\"Paso 1:\", len(bin(var12)))\n",
    "\n",
    "        #Paso 13\n",
    "        var13 = var2 ^ var10\n",
    "\n",
    "        print(\"Paso 13:\", bin(var13))\n",
    "        print(\"Paso 1:\", len(bin(var13)))\n",
    "\n",
    "        #Paso 14\n",
    "        var14 = var4 ^ var10\n",
    "\n",
    "        print(\"Paso 14:\", bin(var14))\n",
    "        print(\"Paso 1:\", len(bin(var14)))\n",
    "\n",
    "        return [var11, var12, var13, var14]\n",
    "\n",
    "\n",
    "def lista_binaria_a_decimal (lista_binaria):\n",
    "    return [int(elem,2) for elem in lista_binaria]\n",
    "\n",
    "def aplicar_cifrado_bloque(bloque_msj, claves_intermedias):\n",
    "    #La primera iteración usara los valores numericos del bloque del mensaje\n",
    "    resultado_iteracion = lista_binaria_a_decimal(bloque_msj)\n",
    "    #resultado_iteracion = [int(bloque_msj[0],2), int(bloque_msj[1],2), int(bloque_msj[2],2), int(bloque_msj[3],2)]\n",
    "    iteraciones = []\n",
    "    for i in range(0,8):\n",
    "        #En cada iteración se cogen 6 subclaves\n",
    "        subclaves = lista_binaria_a_decimal(claves_intermedias[i*6:(i*6)+6])\n",
    "        resultado_iteracion = calcular_iteracion(resultado_iteracion, subclaves)\n",
    "        iteraciones.extend(resultado_iteracion)\n",
    "        print(resultado_iteracion)\n",
    "        #Se retroalimenta el algoritmo usando como bloque de entrada la permutación de los elementos centrales de la anterior iteración\n",
    "        resultado_iteracion = [resultado_iteracion[0], resultado_iteracion[1], resultado_iteracion[2], resultado_iteracion[3]]\n",
    "\n",
    "    print(\"Iteraciones\",iteraciones)\n",
    "\n",
    "    #Último paso \n",
    "    #Ultimas 4 subclaves\n",
    "    subclaves = lista_binaria_a_decimal(claves_intermedias[48:52])\n",
    "\n",
    "    resultado_iteracion = [resultado_iteracion[0], resultado_iteracion[2], resultado_iteracion[1], resultado_iteracion[3]]\n",
    "    var15 = (resultado_iteracion[0] * subclaves[0])%(2**16+1)\n",
    "    var16 = (resultado_iteracion[1] + subclaves[1])%(2**16)\n",
    "    var17 = (resultado_iteracion[2] + subclaves[2])%(2**16)\n",
    "    var18 = (resultado_iteracion[3] * subclaves[3])%(2**16+1)\n",
    "\n",
    "    resultado = [var15, var16, var17, var18]\n",
    "\n",
    "    print(\"Resultado\",resultado)\n",
    "\n",
    "    for elem in resultado:\n",
    "        num = format(elem, \"016b\")\n",
    "        #print(len(num))\n",
    "        print(hex(int(num[:4],2)),end=' ')\n",
    "        print(hex(int(num[4:8],2)),end=' ')\n",
    "        print(hex(int(num[8:12],2)),end=' ')\n",
    "        print(hex(int(num[12:16],2)),end=' ')\n",
    "\n",
    "    return resultado\n",
    "\n",
    "\n",
    "def cifrar_mensaje(mensaje_bloques, claves_intermedias):\n",
    "    msj_cifrado = []\n",
    "\n",
    "    for bloque in mensaje_bloques:\n",
    "        msj_cifrado.append(aplicar_cifrado_bloque(bloque, claves_intermedias))\n",
    "\n",
    "    print(msj_cifrado)\n",
    "\n",
    "cifrar_mensaje(mensaje_bloques, claves_intermedias)"
   ]
  },
  {
   "cell_type": "code",
   "execution_count": null,
   "metadata": {},
   "outputs": [],
   "source": []
  }
 ]
}