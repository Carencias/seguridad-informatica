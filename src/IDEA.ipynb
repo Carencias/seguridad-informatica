{
 "metadata": {
  "language_info": {
   "codemirror_mode": {
    "name": "ipython",
    "version": 3
   },
   "file_extension": ".py",
   "mimetype": "text/x-python",
   "name": "python",
   "nbconvert_exporter": "python",
   "pygments_lexer": "ipython3",
   "version": "3.9.2"
  },
  "orig_nbformat": 2,
  "kernelspec": {
   "name": "python392jvsc74a57bd0104ab0b201326c003eb326b253436127765e9423f74595591084a446732f77fa",
   "display_name": "Python 3.9.2 64-bit"
  },
  "metadata": {
   "interpreter": {
    "hash": "104ab0b201326c003eb326b253436127765e9423f74595591084a446732f77fa"
   }
  }
 },
 "nbformat": 4,
 "nbformat_minor": 2,
 "cells": [
  {
   "source": [
    "<h1>IDEA: Un algoritmo de clave privada</h1>\n",
    "\n",
    "<h2> <u>Cifrado de un mensaje, dados los siguientes datos:</u></h2>\n",
    "<li> Mensaje=\"En un lugar de la Mancha, de cuyo nombre no quiero acordarme\"</li>\n",
    "<li> Clave privada (K) => 128 bits =\"MARCOSDIEGOSANTI\""
   ],
   "cell_type": "markdown",
   "metadata": {}
  },
  {
   "source": [
    "<h2>1. Obtención de los valores binarios del mensaje y la clave </h2>"
   ],
   "cell_type": "markdown",
   "metadata": {}
  },
  {
   "cell_type": "code",
   "execution_count": 18,
   "metadata": {},
   "outputs": [],
   "source": [
    "def leerFichero(ruta):\n",
    "    fichero = open(ruta, \"r\", encoding=\"utf8\")\n",
    "    texto = fichero.read()\n",
    "    fichero.close()\n",
    "    return texto"
   ]
  },
  {
   "cell_type": "code",
   "execution_count": 19,
   "metadata": {},
   "outputs": [
    {
     "output_type": "stream",
     "name": "stdout",
     "text": [
      "Clave privada -> TRABAJOEXCELENTE\nAlfabeto -> AÁBCDEÉFGHIÍJKLMNÑOÓPQRSTUÚVWXYZ.,;:()¿?¡!-0123456789aábcdeéfghiíjklmnñoópqrstuúvwxyz €$&㎀㎁㎂㎃㎄㎅㎆㎇㎈㎉㎊㎋㎌㎍㎎㎏㎐㎑㎒㎓㎔㎕㎖㎗㎘㎙㎚㎛㎜㎝㎞㎟㎠㎡㎢㎣㎤㎥㎦㎧㎨㎩㎪㎫㎬㎭㎮㎯㎰㎱㎲㎳㎴㎵㎶㎷㎸㎹㎺㎻㎼㎽㎾㎿㏀㏁㏂㏃㏄㏅㏆㏇㏈㏉㏊㏋㏌㏍㏎㏏㏐㏑㏒㏓㏔㏕㏖㏗㏘㏙㏚㏛㏜㏝㍱㍲㍳㍴㍵㍶㍷㍸㍹䷀䷁䷂䷃䷄䷅䷆䷇䷈䷉䷊䷋䷌䷍䷎䷏䷐䷑䷒䷓䷔䷕䷖䷗䷘䷙䷚䷛䷜䷝䷞䷟䷠䷡䷢䷣䷤䷥䷦䷧䷨䷩䷪䷫䷬䷭䷮䷯䷰䷱䷲䷳䷴䷵䷶䷷䷸䷹䷺䷻䷼䷽ⵁ\n"
     ]
    }
   ],
   "source": [
    "mensaje_claro=\"En un lugar de la Mancha, de cuyo nombre no quiero acordarme\"\n",
    "#La clave tiene que tener 128 bits\n",
    "clave_privada=leerFichero(\"clavePrivadaDescifrada.txt\")\n",
    "#ⵁ -> Caracter reservado\n",
    "alf=leerFichero(\"alf_idea.txt\")\n",
    "print(\"Clave privada ->\",clave_privada)\n",
    "print(\"Alfabeto ->\",alf)\n"
   ]
  },
  {
   "cell_type": "code",
   "execution_count": 20,
   "metadata": {},
   "outputs": [],
   "source": [
    "def cadena_a_binario(cadena):\n",
    "    #Conversion a binario de 8 bits\n",
    "    cadena_binaria = \"\".join(format(alf.index(x), '08b') for x in cadena)\n",
    "    return cadena_binaria"
   ]
  },
  {
   "cell_type": "code",
   "execution_count": 21,
   "metadata": {},
   "outputs": [],
   "source": [
    "#Conversión a binario de la clave y el mensaje. Cada carácter representado en binario de 8 bits\n",
    "mensaje_binario = cadena_a_binario(mensaje_claro)\n",
    "clave_binaria = cadena_a_binario(clave_privada)"
   ]
  },
  {
   "source": [
    "<h2>2. Se divide el mensaje binario en bloques de 64 bits. Cada bloque se divide a su vez en 4 sub-bloques de 16 bits </h2>\n"
   ],
   "cell_type": "markdown",
   "metadata": {}
  },
  {
   "cell_type": "code",
   "execution_count": 22,
   "metadata": {},
   "outputs": [],
   "source": [
    "def binario_a_bloques(cadena, tam_bloque):\n",
    "    lista_bloques = [cadena[x:x+tam_bloque] for x in range(0,len(cadena), tam_bloque)]\n",
    "    len_ultimo_bloque = len(lista_bloques[-1])\n",
    "    #Relleno con 0s si no se alcanza el tamaño del bloque\n",
    "    if(len_ultimo_bloque!=tam_bloque):\n",
    "        #Relleno con ⵁ hasta alcanzar el tamaño del bloque\n",
    "        lista_bloques[-1] =  lista_bloques[-1] + format(alf.index(\"ⵁ\"), '08b') * ((tam_bloque-len_ultimo_bloque)//8)\n",
    "    return lista_bloques\n"
   ]
  },
  {
   "cell_type": "code",
   "execution_count": 23,
   "metadata": {},
   "outputs": [],
   "source": [
    "def procesar_mensaje_binario(mensaje_binario):\n",
    "\n",
    "    #Mensaje dividido en bloques de 64 bits, que tendrá la forma [ab,cd,ef,gh]\n",
    "    mensaje_dividido = binario_a_bloques(mensaje_binario, 64)\n",
    "\n",
    "    #Cada sub-bloque lo divido en 4 bloques de 16 bits, guardo el resultado final, que tendrá la forma [[a,b],[c,d],[e,f],[g,h]]\n",
    "    mensaje_bloques = []\n",
    "    for bloque in mensaje_dividido:\n",
    "        mensaje_bloques.append(binario_a_bloques(bloque, 16))\n",
    "    return mensaje_bloques"
   ]
  },
  {
   "cell_type": "code",
   "execution_count": 24,
   "metadata": {},
   "outputs": [],
   "source": [
    "#Mensaje dividido en sub-bloques\n",
    "mensaje_bloques = procesar_mensaje_binario(mensaje_binario)"
   ]
  },
  {
   "source": [
    "<h2>3. Se calculan las claves intermedias. Serán un total de 52 subclaves de 16 bits, que se emplearán para cifrar el mensaje</h2>"
   ],
   "cell_type": "markdown",
   "metadata": {}
  },
  {
   "cell_type": "code",
   "execution_count": 25,
   "metadata": {},
   "outputs": [],
   "source": [
    " #Recibe un string de valores binarios\n",
    " def generar_claves_intermedias_cifrado(clave_inicial):\n",
    "     # lista de una dimensión, que contendrá las 52 subclaves\n",
    "     lista_claves = []\n",
    "     #La agrupación será de 6 en 6 subclaves. Las 8 primeras son la clave inicial.\n",
    "     lista_claves.extend(binario_a_bloques(clave_inicial, 16))\n",
    "\n",
    "     while(len(lista_claves)<52):\n",
    "         #Desplazar 25 bits a la izquierda la clave inicial\n",
    "         clave_inicial = clave_inicial[25:]+clave_inicial[:25]\n",
    "         #Bloques de la clave actualizada\n",
    "         lista_claves.extend(binario_a_bloques(clave_inicial, 16))\n",
    "\n",
    "     # lista_claves crece en múltiplos de 8 y es por ello que debemos quedarnos solo con los 52 primeros valores\n",
    "     lista_claves = lista_claves[:52]\n",
    "\n",
    "     return lista_claves"
   ]
  },
  {
   "cell_type": "code",
   "execution_count": 26,
   "metadata": {},
   "outputs": [],
   "source": [
    "#Claves intermedias para cifrar\n",
    "claves_intermedias = generar_claves_intermedias_cifrado(clave_binaria)"
   ]
  },
  {
   "source": [
    "<h2>4. Aplico el algoritmo de cifrado a cada bloque del mensaje</h2>"
   ],
   "cell_type": "markdown",
   "metadata": {}
  },
  {
   "cell_type": "code",
   "execution_count": 27,
   "metadata": {},
   "outputs": [],
   "source": [
    "def calcular_iteracion(bloque_numerico, subclaves):\n",
    "        #Paso 1\n",
    "        var1 = (bloque_numerico[0] * subclaves[0])%(2**16+1)\n",
    "\n",
    "        #Paso 2\n",
    "        var2 = (bloque_numerico[1] + subclaves[1])%(2**16)\n",
    "\n",
    "        #Paso 3\n",
    "        var3 = (bloque_numerico[2] + subclaves[2])%(2**16)\n",
    "\n",
    "        #Paso 4\n",
    "        var4 = (bloque_numerico[3] * subclaves[3])%(2**16+1)\n",
    "\n",
    "        #Paso 5 (XOR entre 1 y 3)\n",
    "        var5 = var1 ^ var3\n",
    "\n",
    "        #Paso 6 \n",
    "        var6 = var2 ^ var4\n",
    "\n",
    "        #Paso 7\n",
    "        var7 = (var5 * subclaves[4])%(2**16+1)\n",
    "\n",
    "        #Paso 8\n",
    "        var8 = (var6 + var7)%(2**16)\n",
    "\n",
    "        #Paso 9\n",
    "        var9 = (var8 * subclaves[5])%(2**16+1)\n",
    "\n",
    "        #Paso 10\n",
    "        var10 = (var7 + var9)%(2**16)\n",
    "\n",
    "        #Paso 11\n",
    "        var11 = var1 ^ var9\n",
    "\n",
    "        #Paso 12\n",
    "        var12 = var3 ^ var9\n",
    "\n",
    "        #Paso 13\n",
    "        var13 = var2 ^ var10\n",
    "\n",
    "        #Paso 14\n",
    "        var14 = var4 ^ var10\n",
    "\n",
    "        return [var11, var12, var13, var14]\n"
   ]
  },
  {
   "cell_type": "code",
   "execution_count": 28,
   "metadata": {},
   "outputs": [],
   "source": [
    "def lista_binaria_a_decimal (lista_binaria):\n",
    "    return [int(elem,2) for elem in lista_binaria]"
   ]
  },
  {
   "cell_type": "code",
   "execution_count": 29,
   "metadata": {},
   "outputs": [],
   "source": [
    "def bloque_16_a_texto(bloque):\n",
    "    pos1 = int(bloque[0:8], 2)\n",
    "    pos2 = int(bloque[8:17], 2)\n",
    "    #print(pos1, pos2)\n",
    "    cadena = alf[pos1] + alf[pos2]\n",
    "    return cadena\n"
   ]
  },
  {
   "cell_type": "code",
   "execution_count": 30,
   "metadata": {},
   "outputs": [],
   "source": [
    "def aplicar_cifrado_bloque(bloque_msj, claves_intermedias):\n",
    "    #La primera iteración usara los valores numericos del bloque del mensaje\n",
    "    resultado_iteracion = lista_binaria_a_decimal(bloque_msj)\n",
    "    #resultado_iteracion = [int(bloque_msj[0],2), int(bloque_msj[1],2), int(bloque_msj[2],2), int(bloque_msj[3],2)]\n",
    "    iteraciones = []\n",
    "\n",
    "    for i in range(0,8):\n",
    "        #En cada iteración se cogen 6 subclaves\n",
    "        subclaves = lista_binaria_a_decimal(claves_intermedias[i*6:(i*6)+6])\n",
    "        resultado_iteracion = calcular_iteracion(resultado_iteracion, subclaves)\n",
    "        iteraciones.extend(resultado_iteracion)\n",
    "        #Se retroalimenta el algoritmo usando como bloque de entrada la permutación de los elementos centrales de la anterior iteración\n",
    "        resultado_iteracion = [resultado_iteracion[0], resultado_iteracion[1], resultado_iteracion[2], resultado_iteracion[3]]\n",
    "\n",
    "    #Último paso \n",
    "    #Ultimas 4 subclaves\n",
    "    subclaves = lista_binaria_a_decimal(claves_intermedias[48:52])\n",
    "\n",
    "    resultado_iteracion = [resultado_iteracion[0], resultado_iteracion[2], resultado_iteracion[1], resultado_iteracion[3]]\n",
    "    var15 = (resultado_iteracion[0] * subclaves[0])%(2**16+1)\n",
    "    var16 = (resultado_iteracion[1] + subclaves[1])%(2**16)\n",
    "    var17 = (resultado_iteracion[2] + subclaves[2])%(2**16)\n",
    "    var18 = (resultado_iteracion[3] * subclaves[3])%(2**16+1)\n",
    "\n",
    "    resultado = [var15, var16, var17, var18]\n",
    "\n",
    "    return resultado"
   ]
  },
  {
   "cell_type": "code",
   "execution_count": 31,
   "metadata": {},
   "outputs": [],
   "source": [
    "def cifrar_descifrar_mensaje(mensaje_bloques, claves_intermedias):\n",
    "    msj_cifrado_decimal = []\n",
    "\n",
    "    for bloque in mensaje_bloques:\n",
    "        msj_cifrado_decimal.extend(aplicar_cifrado_bloque(bloque, claves_intermedias))\n",
    "\n",
    "    msj_cifrado_binario = [format(elem, \"016b\") for elem in msj_cifrado_decimal]\n",
    "\n",
    "    mensaje_cifrado = \"\"\n",
    "\n",
    "    for elem in msj_cifrado_binario:\n",
    "        mensaje_cifrado += bloque_16_a_texto(elem)\n",
    "\n",
    "    return mensaje_cifrado"
   ]
  },
  {
   "cell_type": "code",
   "execution_count": 32,
   "metadata": {},
   "outputs": [
    {
     "output_type": "stream",
     "name": "stdout",
     "text": [
      "Mensaje cifrado -> ䷮䷷㏚㏙㏀㎰㏍䷨㏚䷲䷢c㏑㏄䷑!$㏂㍷B䷋㎚㎬㎪Qií㎔jDn6㏔P䷃䷼㎢㏇t䷢䷭㎀k㎍㏏3Q㍸䷜m䷅㎺㍷8㎮㍸䷚㎶Ó䷂㎒:㎝Y\n"
     ]
    }
   ],
   "source": [
    "#Obtención del mensaje cifrado\n",
    "msj_cifrado = cifrar_descifrar_mensaje(mensaje_bloques, claves_intermedias)\n",
    "\n",
    "print(\"Mensaje cifrado ->\",msj_cifrado)"
   ]
  },
  {
   "source": [
    "<h2><u>Descifrado de un mensaje, dados los siguientes datos:</u></h2>"
   ],
   "cell_type": "markdown",
   "metadata": {}
  },
  {
   "source": [
    "<h2>1. Obtener las subclaves de descifrado </h2>"
   ],
   "cell_type": "markdown",
   "metadata": {}
  },
  {
   "cell_type": "code",
   "execution_count": 33,
   "metadata": {},
   "outputs": [],
   "source": [
    " #Recibe un string de valores binarios\n",
    " def generar_claves_intermedias_descifrado(clave_inicial):\n",
    "    # lista de una dimensión, que contendrá las 52 subclaves\n",
    "    lista_claves_binaria = generar_claves_intermedias_cifrado(clave_inicial)\n",
    "    lista_claves_decimal = lista_binaria_a_decimal(lista_claves_binaria)\n",
    "    i = 0\n",
    "\n",
    "    while(i<52):\n",
    "         if(i%3 == 0):\n",
    "            #Calculo el inverso modulo de la multiplicación\n",
    "            lista_claves_decimal[i] = pow(lista_claves_decimal[i], -1, (2**16+1))\n",
    "         else:\n",
    "            #No aplico nada a los dos ultimos valores de cada fila\n",
    "            if(not((i+1)%6==5 or (i)%6==5)):\n",
    "                #Calculo el valor negativo modulo de la suma\n",
    "                lista_claves_decimal[i] = (lista_claves_decimal[i]*-1)%(2**16)\n",
    "                \n",
    "         i=i+1\n",
    "\n",
    "    #Ordenación de claves de descifrado según algoritmo\n",
    "    lista_claves_descifrado = []\n",
    "\n",
    "    lista_claves_descifrado.extend(lista_claves_decimal[48:52])\n",
    "    lista_claves_descifrado.extend(lista_claves_decimal[46:48])\n",
    "    \n",
    "    for i in range (42,0,-6):\n",
    "        lista_claves_descifrado.append(lista_claves_decimal[i])\n",
    "        lista_claves_descifrado.append(lista_claves_decimal[i+2])\n",
    "        lista_claves_descifrado.append(lista_claves_decimal[i+1])\n",
    "        lista_claves_descifrado.append(lista_claves_decimal[i+3])\n",
    "        lista_claves_descifrado.extend(lista_claves_decimal[i-2:i])\n",
    "\n",
    "    lista_claves_descifrado.extend(lista_claves_decimal[0:4])\n",
    "\n",
    "    #print_bloque_16_a_hex(lista_claves_descifrado)\n",
    "    return [format(elem, \"016b\") for elem in lista_claves_descifrado]\n",
    "\n"
   ]
  },
  {
   "cell_type": "code",
   "execution_count": 34,
   "metadata": {},
   "outputs": [
    {
     "output_type": "stream",
     "name": "stdout",
     "text": [
      "Mensaje descifrado -> En un lugar de la Mancha, de cuyo nombre no quiero acordarme\n"
     ]
    }
   ],
   "source": [
    "msj_cifrado = \"䷮䷷㏚㏙㏀㎰㏍䷨㏚䷲䷢c㏑㏄䷑!$㏂㍷B䷋㎚㎬㎪Qií㎔jDn6㏔P䷃䷼㎢㏇t䷢䷭㎀k㎍㏏3Q㍸䷜m䷅㎺㍷8㎮㍸䷚㎶Ó䷂㎒:㎝Y\"\n",
    "\n",
    "#Genero las claves de descifrado, partiendo de la clave publica compartida\n",
    "claves_intermedias_descifrar = generar_claves_intermedias_descifrado(clave_binaria)\n",
    "\n",
    "#Generación de sub-bloques del mensaje\n",
    "msj_cifrado_procesado = procesar_mensaje_binario(cadena_a_binario(msj_cifrado))\n",
    "\n",
    "#Obtención del mensaje en claro\n",
    "msj_claro = cifrar_descifrar_mensaje(msj_cifrado_procesado, claves_intermedias_descifrar)\n",
    "\n",
    "#Elimino el relleno\n",
    "mensaje_claro = mensaje_claro.replace(\"ⵁ\", \"\")\n",
    "\n",
    "print(\"Mensaje descifrado ->\",mensaje_claro)"
   ]
  },
  {
   "cell_type": "code",
   "execution_count": null,
   "metadata": {},
   "outputs": [],
   "source": []
  }
 ]
}