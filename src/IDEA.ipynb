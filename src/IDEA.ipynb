{
 "metadata": {
  "language_info": {
   "codemirror_mode": {
    "name": "ipython",
    "version": 3
   },
   "file_extension": ".py",
   "mimetype": "text/x-python",
   "name": "python",
   "nbconvert_exporter": "python",
   "pygments_lexer": "ipython3",
   "version": "3.9.2"
  },
  "orig_nbformat": 2,
  "kernelspec": {
   "name": "python392jvsc74a57bd0104ab0b201326c003eb326b253436127765e9423f74595591084a446732f77fa",
   "display_name": "Python 3.9.2 64-bit"
  },
  "metadata": {
   "interpreter": {
    "hash": "104ab0b201326c003eb326b253436127765e9423f74595591084a446732f77fa"
   }
  }
 },
 "nbformat": 4,
 "nbformat_minor": 2,
 "cells": [
  {
   "source": [
    "<h1>IDEA: Un algoritmo de clave privada</h1>\n",
    "\n",
    "<h2> Cifrado de un mensaje, dados los siguientes datos:</h2>\n",
    "<li> Mensaje=\"En un lugar de la Mancha, de cuyo nombre no quiero acordarme\"</li>\n",
    "<li> Clave privada (K) => 128 bits =\"MARCOSDIEGOSANTI\""
   ],
   "cell_type": "markdown",
   "metadata": {}
  },
  {
   "source": [
    "<h2>1. Obtención de los valores binarios del mensaje y la clave </h2>"
   ],
   "cell_type": "markdown",
   "metadata": {}
  },
  {
   "cell_type": "code",
   "execution_count": 271,
   "metadata": {},
   "outputs": [
    {
     "output_type": "stream",
     "name": "stdout",
     "text": [
      "128\n"
     ]
    }
   ],
   "source": [
    "mensaje_claro=\"En un lugar de la Mancha, de cuyo nombre no quiero acordarme\"\n",
    "#La clave tiene que usar un alfabeto que contenga menos de 128 bits\n",
    "clave_privada=\"MARCOSDIEGOSANTI\"\n",
    "#clave_privada=\"11112222333344445555666677778888\"\n",
    "alf=\"AÁBCDEÉFGHIÍJKLMNÑOÓPQRSTUÚVWXYZ.,;:()¿?¡!-0123456789aábcdeéfghiíjklmnñoópqrstuúvwxyz \"\n",
    "\n",
    "def cadena_a_binario(cadena):\n",
    "    #Conversion a binario de 8 bits\n",
    "    #cadena_binaria = \"\".join(format(int(x), '04b') for x in cadena)\n",
    "    cadena_binaria = \"\".join(format(alf.index(x), '08b') for x in cadena)\n",
    "    return cadena_binaria\n",
    "\n",
    "mensaje_binario = cadena_a_binario(mensaje_claro)\n",
    "clave_binaria = cadena_a_binario(clave_privada)\n",
    "\n",
    "#var = 0b01\n",
    "\n",
    "#aux = clave_binaria[25:]+clave_binaria[:25]\n",
    "#lista = [int(aux[x:x+4], 2) for x in range(0,128,4)]\n",
    "#print(lista)\n",
    "#print(aux)\n",
    "#print(len(aux))\n",
    "#print(var<<1)\n",
    "print(len(clave_binaria))\n"
   ]
  },
  {
   "source": [
    "<h2>2. Se divide el mensaje binario en bloques de 64 bits. Cada bloque se divide a su vez en 4 sub-bloques de 16 bits </h2>\n"
   ],
   "cell_type": "markdown",
   "metadata": {}
  },
  {
   "cell_type": "code",
   "execution_count": 272,
   "metadata": {},
   "outputs": [
    {
     "output_type": "stream",
     "name": "stdout",
     "text": [
      "1349\n"
     ]
    }
   ],
   "source": [
    "def binario_a_bloques(cadena, tam_bloque):\n",
    "    lista_bloques = [cadena[x:x+tam_bloque] for x in range(0,len(cadena), tam_bloque)]\n",
    "    len_ultimo_bloque = len(lista_bloques[-1])\n",
    "    #Relleno con 0s si no se alcanza el tamaño del bloque\n",
    "    if(len_ultimo_bloque!=tam_bloque):\n",
    "        lista_bloques[-1] = lista_bloques[-1]+(tam_bloque-len_ultimo_bloque)*\"0\"\n",
    "    return lista_bloques\n",
    "\n",
    "#Mensaje dividido en bloques de 64 bits, que tendrá la forma [ab,cd]\n",
    "mensaje_dividido = binario_a_bloques(mensaje_binario, 64)\n",
    "\n",
    "#Cada sub-bloque lo divido en 4 bloques de 16 bits, guardo el resultado final, que tendrá la forma [[a,b],[c,d]]\n",
    "mensaje_bloques = []\n",
    "for bloque in mensaje_dividido:\n",
    "    mensaje_bloques.append(binario_a_bloques(bloque, 16))\n",
    "\n",
    "print(int(mensaje_bloques[0][0],2))\n",
    "\n"
   ]
  },
  {
   "source": [
    "<h2>3. Se calculan las claves intermedias. Serán un total de 52 subclaves de 16 bits, que se emplearán para cifrar el mensaje</h2>"
   ],
   "cell_type": "markdown",
   "metadata": {}
  },
  {
   "cell_type": "code",
   "execution_count": 273,
   "metadata": {},
   "outputs": [],
   "source": [
    " #Recibe un string de valores binarios\n",
    " def generar_claves_intermedias_cifrado(clave_inicial):\n",
    "     # lista de una dimensión, que contendrá las 52 subclaves\n",
    "     lista_claves = []\n",
    "     #La agrupación será de 6 en 6 subclaves. Las 8 primeras son la clave inicial.\n",
    "     lista_claves.extend(binario_a_bloques(clave_inicial, 16))\n",
    "\n",
    "     while(len(lista_claves)<52):\n",
    "         #Desplazar 25 bits a la izquierda la clave inicial\n",
    "         clave_inicial = clave_inicial[25:]+clave_inicial[:25]\n",
    "         #Bloques de la clave actualizada\n",
    "         lista_claves.extend(binario_a_bloques(clave_inicial, 16))\n",
    "\n",
    "     # lista_claves crece en múltiplos de 8 y es por ello que debemos quedarnos solo con los 52 primeros valores\n",
    "     lista_claves = lista_claves[:52]\n",
    "     #print(lista_claves)\n",
    "     return lista_claves\n",
    "\n",
    "claves_intermedias = generar_claves_intermedias_cifrado(clave_binaria)\n",
    "#print(claves_intermedias)\n"
   ]
  },
  {
   "source": [
    "<h2>4. Aplico el algoritmo de cifrado a cada bloque del mensaje</h2>"
   ],
   "cell_type": "markdown",
   "metadata": {}
  },
  {
   "cell_type": "code",
   "execution_count": 274,
   "metadata": {},
   "outputs": [],
   "source": [
    "def aplicar_cifrado(bloque_msj, claves_intermedias):\n",
    "    for i in range(0,8):\n",
    "        #En cada iteración se cogen 6 subclaves\n",
    "        subclaves = claves_intermedias[i*6:(i*6)+6]\n",
    "        \n",
    "        #Paso 1\n",
    "        var1 = int(bloque_msj[0],2) * int(claves_intermedias[0],2)\n",
    "\n",
    "        #Paso 2\n",
    "        var2 = int(bloque_msj[1],2) + int(claves_intermedias[1],2)\n",
    "\n",
    "        #Paso 3\n",
    "        var3 = int(bloque_msj[2],2) + int(claves_intermedias[2],2)\n",
    "\n",
    "        #Paso 4\n",
    "        var4 = int(bloque_msj[3],2) * int(claves_intermedias[3],2)\n",
    "\n",
    "        #Paso 5 (XOR entre 1 y 3)\n",
    "        var5 = var1 ^ var2\n",
    "\n",
    "        #Paso 6 \n",
    "        var6 = var2 ^ var4\n",
    "\n",
    "        #Paso 7\n",
    "        var7 = var5 * int(claves_intermedias[4], 2)\n",
    "\n",
    "        #Paso 8\n",
    "        var8 = var6 + var7\n",
    "\n",
    "        #Paso 9\n",
    "        var9 = var8 * int(claves_intermedias[5], 2)\n",
    "\n",
    "        #Paso 10\n",
    "        var10 = var7 + var9\n",
    "\n",
    "        #Paso 11\n",
    "        var11 = var1 ^ var9\n",
    "\n",
    "        #Paso 12\n",
    "        var11 = var3 ^ var9\n",
    "\n",
    "        #Paso 13\n",
    "        var11 = var3 ^ var10\n",
    "\n",
    "        #Paso 14\n",
    "        var11 = var4 ^ var10\n",
    "\n",
    "\n",
    "\n",
    "aplicar_cifrado(mensaje_bloques[0], claves_intermedias)"
   ]
  },
  {
   "cell_type": "code",
   "execution_count": null,
   "metadata": {},
   "outputs": [],
   "source": []
  }
 ]
}