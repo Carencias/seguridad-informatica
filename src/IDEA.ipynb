{
 "metadata": {
  "language_info": {
   "codemirror_mode": {
    "name": "ipython",
    "version": 3
   },
   "file_extension": ".py",
   "mimetype": "text/x-python",
   "name": "python",
   "nbconvert_exporter": "python",
   "pygments_lexer": "ipython3",
   "version": "3.9.2"
  },
  "orig_nbformat": 2,
  "kernelspec": {
   "name": "python392jvsc74a57bd0104ab0b201326c003eb326b253436127765e9423f74595591084a446732f77fa",
   "display_name": "Python 3.9.2 64-bit"
  },
  "metadata": {
   "interpreter": {
    "hash": "104ab0b201326c003eb326b253436127765e9423f74595591084a446732f77fa"
   }
  }
 },
 "nbformat": 4,
 "nbformat_minor": 2,
 "cells": [
  {
   "source": [
    "<h1>IDEA: Un algoritmo de clave privada</h1>\n",
    "\n",
    "<h2> Cifrado de un mensaje, dados los siguientes datos:</h2>\n",
    "<li> Mensaje=\"En un lugar de la Mancha, de cuyo nombre no quiero acordarme\"</li>\n",
    "<li> Clave privada (K) => 128 bits =\"MARCOSDIEGOSANTI\""
   ],
   "cell_type": "markdown",
   "metadata": {}
  },
  {
   "source": [
    "<h2>1. Obtención de los valores binarios del mensaje y la clave </h2>"
   ],
   "cell_type": "markdown",
   "metadata": {}
  },
  {
   "cell_type": "code",
   "execution_count": 1,
   "metadata": {},
   "outputs": [
    {
     "output_type": "stream",
     "name": "stdout",
     "text": [
      "480\n60\n"
     ]
    }
   ],
   "source": [
    "mensaje_claro=\"En un lugar de la Mancha, de cuyo nombre no quiero acordarme\"\n",
    "#La clave tiene que usar un alfabeto que contenga menos de 128 bits\n",
    "clave_privada=\"MARCOSDIEGOSANTI\"\n",
    "alf=\"AÁBCDEÉFGHIÍJKLMNÑOÓPQRSTUÚVWXYZ.,;:()¿?¡!-0123456789aábcdeéfghiíjklmnñoópqrstuúvwxyz \"\n",
    "\n",
    "def cadena_a_binario(cadena):\n",
    "    #Conversion a binario de 8 bits\n",
    "    cadena_binaria = \"\".join(format(alf.index(x), '08b') for x in cadena)\n",
    "    return cadena_binaria\n",
    "\n",
    "mensaje_binario = cadena_a_binario(mensaje_claro)\n",
    "clave_binaria = cadena_a_binario(clave_privada)\n",
    "\n",
    "print(len(mensaje_binario))\n",
    "print(len(mensaje_claro))\n"
   ]
  },
  {
   "source": [
    "<h2>2. Se divide el mensaje binario en bloques de 64 bits. Cada bloque se divide a su vez en 4 sub-bloques de 16 bits </h2>\n"
   ],
   "cell_type": "markdown",
   "metadata": {}
  },
  {
   "cell_type": "code",
   "execution_count": 2,
   "metadata": {},
   "outputs": [
    {
     "output_type": "stream",
     "name": "stdout",
     "text": [
      "sssssssssssssssssss\n[['0000010101000101', '0101010101001110', '0100010101010101', '0100001101001110'], ['0011110100110101', '0100101101010101', '0011100100111010', '0101010101000011'], ['0011010101010101', '0000111100110101', '0100010100111000', '0011111000110101'], ['0010000101010101', '0011100100111010', '0101010100111000', '0100111001010011'], ['0100011101010101', '0100010101000111', '0100010000110111', '0100101100111010'], ['0101010101000101', '0100011101010101', '0100101001001110', '0011111100111010'], ['0100101101000111', '0101010100110101', '0011100001000111', '0100101100111001'], ['0011010101001011', '0100010000111010', '0000000000000000', '0000000000000000']]\n"
     ]
    }
   ],
   "source": [
    "def binario_a_bloques(cadena, tam_bloque):\n",
    "    lista_bloques = [cadena[x:x+tam_bloque] for x in range(0,len(cadena), tam_bloque)]\n",
    "    len_ultimo_bloque = len(lista_bloques[-1])\n",
    "    #Relleno con 0s si no se alcanza el tamaño del bloque\n",
    "    if(len_ultimo_bloque!=tam_bloque):\n",
    "        lista_bloques[-1] = lista_bloques[-1]+(tam_bloque-len_ultimo_bloque)*\"0\"\n",
    "    return lista_bloques\n",
    "\n",
    "#Mensaje dividido en bloques de 64 bits, que tendrá la forma [ab,cd]\n",
    "mensaje_dividido = binario_a_bloques(mensaje_binario, 64)\n",
    "\n",
    "#Cada sub-bloque lo divido en 4 bloques de 16 bits, guardo el resultado final, que tendrá la forma [[a,b],[c,d]]\n",
    "mensaje_bloques = []\n",
    "for bloque in mensaje_dividido:\n",
    "    mensaje_bloques.append(binario_a_bloques(bloque, 16))\n",
    "\n",
    "print(mensaje_bloques)\n",
    "\n"
   ]
  },
  {
   "source": [
    "<h2>3. Se divide la clave en bloques de 16 bits. Quedará dividida en 8</h2>"
   ],
   "cell_type": "markdown",
   "metadata": {}
  },
  {
   "cell_type": "code",
   "execution_count": 3,
   "metadata": {},
   "outputs": [
    {
     "output_type": "stream",
     "name": "stdout",
     "text": [
      "['0000111100000000', '0001011000000011', '0001001000010111', '0000010000001010', '0000010100001000', '0001001000010111', '0000000000010000', '0001100000001010']\n"
     ]
    }
   ],
   "source": [
    "clave_dividida = binario_a_bloques(clave_binaria, 16)\n",
    "print(clave_dividida)"
   ]
  },
  {
   "cell_type": "code",
   "execution_count": null,
   "metadata": {},
   "outputs": [],
   "source": []
  }
 ]
}