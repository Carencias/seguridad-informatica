{
 "metadata": {
  "language_info": {
   "codemirror_mode": {
    "name": "ipython",
    "version": 3
   },
   "file_extension": ".py",
   "mimetype": "text/x-python",
   "name": "python",
   "nbconvert_exporter": "python",
   "pygments_lexer": "ipython3",
   "version": "3.9.2"
  },
  "orig_nbformat": 2,
  "kernelspec": {
   "name": "python392jvsc74a57bd0104ab0b201326c003eb326b253436127765e9423f74595591084a446732f77fa",
   "display_name": "Python 3.9.2 64-bit"
  },
  "metadata": {
   "interpreter": {
    "hash": "104ab0b201326c003eb326b253436127765e9423f74595591084a446732f77fa"
   }
  }
 },
 "nbformat": 4,
 "nbformat_minor": 2,
 "cells": [
  {
   "source": [
    "<h1>IDEA: Un algoritmo de clave privada</h1>\n",
    "\n",
    "<h2> <u>Cifrado de un mensaje, dados los siguientes datos:</u></h2>\n",
    "<li> Mensaje=\"En un lugar de la Mancha, de cuyo nombre no quiero acordarme\"</li>\n",
    "<li> Clave privada (K) => 128 bits =\"MARCOSDIEGOSANTI\""
   ],
   "cell_type": "markdown",
   "metadata": {}
  },
  {
   "source": [
    "<h2>1. Obtención de los valores binarios del mensaje y la clave </h2>"
   ],
   "cell_type": "markdown",
   "metadata": {}
  },
  {
   "cell_type": "code",
   "execution_count": 139,
   "metadata": {},
   "outputs": [
    {
     "output_type": "stream",
     "name": "stdout",
     "text": [
      "000000000000001000000011000001000000010100000111\n"
     ]
    }
   ],
   "source": [
    "#mensaje_claro=\"En un lugar de la Mancha, de cuyo nombre no quiero acordarme\"\n",
    "mensaje_claro=\"ABCDEF\"\n",
    "#La clave tiene que usar un alfabeto que contenga menos de 128 bits\n",
    "clave_privada=\"MARCOSDIEGOSANTI\"\n",
    "#clave_privada=\"11112222333344445555666677778888\"\n",
    "alf=\"AÁBCDEÉFGHIÍJKLMNÑOÓPQRSTUÚVWXYZ.,;:()¿?¡!-0123456789aábcdeéfghiíjklmnñoópqrstuúvwxyz €$&㎀㎁㎂㎃㎄㎅㎆㎇㎈㎉㎊㎋㎌㎍㎎㎏㎐㎑㎒㎓㎔㎕㎖㎗㎘㎙㎚㎛㎜㎝㎞㎟㎠㎡㎢㎣㎤㎥㎦㎧㎨㎩㎪㎫㎬㎭㎮㎯㎰㎱㎲㎳㎴㎵㎶㎷㎸㎹㎺㎻㎼㎽㎾㎿㏀㏁㏂㏃㏄㏅㏆㏇㏈㏉㏊㏋㏌㏍㏎㏏㏐㏑㏒㏓㏔㏕㏖㏗㏘㏙㏚㏛㏜㏝㍱㍲㍳㍴㍵㍶㍷㍸㍹䷀䷁䷂䷃䷄䷅䷆䷇䷈䷉䷊䷋䷌䷍䷎䷏䷐䷑䷒䷓䷔䷕䷖䷗䷘䷙䷚䷛䷜䷝䷞䷟䷠䷡䷢䷣䷤䷥䷦䷧䷨䷩䷪䷫䷬䷭䷮䷯䷰䷱䷲䷳䷴䷵䷶䷷䷸䷹䷺䷻䷼䷽䷾\"\n",
    "\n",
    "def cadena_a_binario(cadena):\n",
    "    #Conversion a binario de 8 bits\n",
    "    #cadena_binaria = \"\".join(format(int(x, 16), '04b') for x in cadena)\n",
    "    cadena_binaria = \"\".join(format(alf.index(x), '08b') for x in cadena)\n",
    "    return cadena_binaria\n",
    "\n",
    "mensaje_binario = cadena_a_binario(mensaje_claro)\n",
    "clave_binaria = cadena_a_binario(clave_privada)\n",
    "\n",
    "print(mensaje_binario)\n"
   ]
  },
  {
   "source": [
    "<h2>2. Se divide el mensaje binario en bloques de 64 bits. Cada bloque se divide a su vez en 4 sub-bloques de 16 bits </h2>\n"
   ],
   "cell_type": "markdown",
   "metadata": {}
  },
  {
   "cell_type": "code",
   "execution_count": 140,
   "metadata": {},
   "outputs": [],
   "source": [
    "def binario_a_bloques(cadena, tam_bloque):\n",
    "    lista_bloques = [cadena[x:x+tam_bloque] for x in range(0,len(cadena), tam_bloque)]\n",
    "    len_ultimo_bloque = len(lista_bloques[-1])\n",
    "    #Relleno con 0s si no se alcanza el tamaño del bloque\n",
    "    if(len_ultimo_bloque!=tam_bloque):\n",
    "        lista_bloques[-1] = lista_bloques[-1]+(tam_bloque-len_ultimo_bloque)*\"0\"\n",
    "    return lista_bloques\n",
    "\n",
    "def procesar_mensaje_binario(mensaje_binario):\n",
    "\n",
    "    #Mensaje dividido en bloques de 64 bits, que tendrá la forma [ab,cd]\n",
    "    mensaje_dividido = binario_a_bloques(mensaje_binario, 64)\n",
    "\n",
    "    #Cada sub-bloque lo divido en 4 bloques de 16 bits, guardo el resultado final, que tendrá la forma [[a,b],[c,d]]\n",
    "    mensaje_bloques = []\n",
    "    for bloque in mensaje_dividido:\n",
    "        mensaje_bloques.append(binario_a_bloques(bloque, 16))\n",
    "    return mensaje_bloques\n",
    "\n",
    "mensaje_bloques = procesar_mensaje_binario(mensaje_binario)\n",
    "\n",
    "\n",
    "\n"
   ]
  },
  {
   "source": [
    "<h2>3. Se calculan las claves intermedias. Serán un total de 52 subclaves de 16 bits, que se emplearán para cifrar el mensaje</h2>"
   ],
   "cell_type": "markdown",
   "metadata": {}
  },
  {
   "cell_type": "code",
   "execution_count": 141,
   "metadata": {},
   "outputs": [],
   "source": [
    " #Recibe un string de valores binarios\n",
    " def generar_claves_intermedias_cifrado(clave_inicial):\n",
    "     # lista de una dimensión, que contendrá las 52 subclaves\n",
    "     lista_claves = []\n",
    "     #La agrupación será de 6 en 6 subclaves. Las 8 primeras son la clave inicial.\n",
    "     lista_claves.extend(binario_a_bloques(clave_inicial, 16))\n",
    "\n",
    "     while(len(lista_claves)<52):\n",
    "         #Desplazar 25 bits a la izquierda la clave inicial\n",
    "         clave_inicial = clave_inicial[25:]+clave_inicial[:25]\n",
    "         #Bloques de la clave actualizada\n",
    "         lista_claves.extend(binario_a_bloques(clave_inicial, 16))\n",
    "\n",
    "     # lista_claves crece en múltiplos de 8 y es por ello que debemos quedarnos solo con los 52 primeros valores\n",
    "     lista_claves = lista_claves[:52]\n",
    "\n",
    "     return lista_claves\n",
    "\n",
    "claves_intermedias = generar_claves_intermedias_cifrado(clave_binaria)\n",
    "#print(claves_intermedias)\n"
   ]
  },
  {
   "source": [
    "<h2>4. Aplico el algoritmo de cifrado a cada bloque del mensaje</h2>"
   ],
   "cell_type": "markdown",
   "metadata": {}
  },
  {
   "cell_type": "code",
   "execution_count": 142,
   "metadata": {},
   "outputs": [
    {
     "output_type": "stream",
     "name": "stdout",
     "text": [
      "dc8f 758e b794 afb4 ䷜㎶㎜㎵㍱㎻㏖㏛"
     ]
    }
   ],
   "source": [
    "def calcular_iteracion(bloque_numerico, subclaves):\n",
    "        #Paso 1\n",
    "        var1 = (bloque_numerico[0] * subclaves[0])%(2**16+1)\n",
    "\n",
    "        #Paso 2\n",
    "        var2 = (bloque_numerico[1] + subclaves[1])%(2**16)\n",
    "\n",
    "        #Paso 3\n",
    "        var3 = (bloque_numerico[2] + subclaves[2])%(2**16)\n",
    "\n",
    "        #Paso 4\n",
    "        var4 = (bloque_numerico[3] * subclaves[3])%(2**16+1)\n",
    "\n",
    "        #Paso 5 (XOR entre 1 y 3)\n",
    "        var5 = var1 ^ var3\n",
    "\n",
    "        #Paso 6 \n",
    "        var6 = var2 ^ var4\n",
    "\n",
    "        #Paso 7\n",
    "        var7 = (var5 * subclaves[4])%(2**16+1)\n",
    "\n",
    "        #Paso 8\n",
    "        var8 = (var6 + var7)%(2**16)\n",
    "\n",
    "        #Paso 9\n",
    "        var9 = (var8 * subclaves[5])%(2**16+1)\n",
    "\n",
    "        #Paso 10\n",
    "        var10 = (var7 + var9)%(2**16)\n",
    "\n",
    "        #Paso 11\n",
    "        var11 = var1 ^ var9\n",
    "\n",
    "        #Paso 12\n",
    "        var12 = var3 ^ var9\n",
    "\n",
    "        #Paso 13\n",
    "        var13 = var2 ^ var10\n",
    "\n",
    "        #Paso 14\n",
    "        var14 = var4 ^ var10\n",
    "\n",
    "        return [var11, var12, var13, var14]\n",
    "\n",
    "\n",
    "def lista_binaria_a_decimal (lista_binaria):\n",
    "    return [int(elem,2) for elem in lista_binaria]\n",
    "\n",
    "def print_bloque_16_a_hex(bloque):\n",
    "    for elem in bloque:\n",
    "        print(format(elem, \"04x\" ),end=' ')\n",
    "\n",
    "def print_bloque_16_a_texto(bloque):\n",
    "    pos1 = int(bloque[0:8], 2)\n",
    "    pos2 = int(bloque[8:17], 2)\n",
    "    #print(pos1, pos2)\n",
    "    cadena = alf[pos1] + alf[pos2]\n",
    "    return cadena\n",
    "\n",
    "def aplicar_cifrado_bloque(bloque_msj, claves_intermedias):\n",
    "    #La primera iteración usara los valores numericos del bloque del mensaje\n",
    "    resultado_iteracion = lista_binaria_a_decimal(bloque_msj)\n",
    "    #resultado_iteracion = [int(bloque_msj[0],2), int(bloque_msj[1],2), int(bloque_msj[2],2), int(bloque_msj[3],2)]\n",
    "    iteraciones = []\n",
    "\n",
    "    for i in range(0,8):\n",
    "        #En cada iteración se cogen 6 subclaves\n",
    "        subclaves = lista_binaria_a_decimal(claves_intermedias[i*6:(i*6)+6])\n",
    "        resultado_iteracion = calcular_iteracion(resultado_iteracion, subclaves)\n",
    "        iteraciones.extend(resultado_iteracion)\n",
    "        #Se retroalimenta el algoritmo usando como bloque de entrada la permutación de los elementos centrales de la anterior iteración\n",
    "        resultado_iteracion = [resultado_iteracion[0], resultado_iteracion[1], resultado_iteracion[2], resultado_iteracion[3]]\n",
    "\n",
    "    #Último paso \n",
    "    #Ultimas 4 subclaves\n",
    "    subclaves = lista_binaria_a_decimal(claves_intermedias[48:52])\n",
    "\n",
    "    resultado_iteracion = [resultado_iteracion[0], resultado_iteracion[2], resultado_iteracion[1], resultado_iteracion[3]]\n",
    "    var15 = (resultado_iteracion[0] * subclaves[0])%(2**16+1)\n",
    "    var16 = (resultado_iteracion[1] + subclaves[1])%(2**16)\n",
    "    var17 = (resultado_iteracion[2] + subclaves[2])%(2**16)\n",
    "    var18 = (resultado_iteracion[3] * subclaves[3])%(2**16+1)\n",
    "\n",
    "    resultado = [var15, var16, var17, var18]\n",
    "\n",
    "    return resultado\n",
    "\n",
    "\n",
    "def cifrar_descifrar_mensaje(mensaje_bloques, claves_intermedias):\n",
    "    msj_cifrado = []\n",
    "\n",
    "    for bloque in mensaje_bloques:\n",
    "        msj_cifrado.append(aplicar_cifrado_bloque(bloque, claves_intermedias))\n",
    "\n",
    "    #print (msj_cifrado)\n",
    "\n",
    "    return msj_cifrado\n",
    "\n",
    "\n",
    "print_bloque_16_a_hex(cifrar_descifrar_mensaje(mensaje_bloques, claves_intermedias)[0])\n",
    "\n",
    "\n",
    "msj_cifrado_binario = cifrar_descifrar_mensaje(mensaje_bloques, claves_intermedias)[0]\n",
    "\n",
    "msj_cifrado_binario = [format(elem, \"016b\") for elem in msj_cifrado_binario]\n",
    "\n",
    "\n",
    "for elem in msj_cifrado_binario:\n",
    "    pos1 = int(elem[0:8], 2)\n",
    "    pos2 = int(elem[8:17], 2)\n",
    "    #print(pos1, pos2)\n",
    "    print(alf[pos1], end=\"\")\n",
    "    print(alf[pos2], end=\"\")"
   ]
  },
  {
   "source": [
    "<h2><u>Descifrado de un mensaje, dados los siguientes datos:</u></h2>"
   ],
   "cell_type": "markdown",
   "metadata": {}
  },
  {
   "source": [
    "<h2>1. Obtener las subclaves de descifrado </h2>"
   ],
   "cell_type": "markdown",
   "metadata": {}
  },
  {
   "cell_type": "code",
   "execution_count": 143,
   "metadata": {},
   "outputs": [
    {
     "output_type": "stream",
     "name": "stdout",
     "text": [
      "['0000000000000010', '0000001100000100', '0000010100000111', '0000000000000000']\nA BC DE FA A"
     ]
    }
   ],
   "source": [
    " #Recibe un string de valores binarios\n",
    " def generar_claves_intermedias_descifrado(clave_inicial):\n",
    "    # lista de una dimensión, que contendrá las 52 subclaves\n",
    "    lista_claves_binaria = generar_claves_intermedias_cifrado(clave_inicial)\n",
    "    lista_claves_decimal = lista_binaria_a_decimal(lista_claves_binaria)\n",
    "    i = 0\n",
    "\n",
    "    while(i<52):\n",
    "         if(i%3 == 0):\n",
    "            #Calculo el inverso modulo de la multiplicación\n",
    "            lista_claves_decimal[i] = pow(lista_claves_decimal[i], -1, (2**16+1))\n",
    "         else:\n",
    "            #No aplico nada a los dos ultimos valores de cada fila\n",
    "            if(not((i+1)%6==5 or (i)%6==5)):\n",
    "                #Calculo el valor negativo modulo de la suma\n",
    "                lista_claves_decimal[i] = (lista_claves_decimal[i]*-1)%(2**16)\n",
    "                \n",
    "         i=i+1\n",
    "\n",
    "    #Ordenación de claves de descifrado según algoritmo\n",
    "    lista_claves_descifrado = []\n",
    "\n",
    "    lista_claves_descifrado.extend(lista_claves_decimal[48:52])\n",
    "    lista_claves_descifrado.extend(lista_claves_decimal[46:48])\n",
    "    \n",
    "    for i in range (42,0,-6):\n",
    "        lista_claves_descifrado.append(lista_claves_decimal[i])\n",
    "        lista_claves_descifrado.append(lista_claves_decimal[i+2])\n",
    "        lista_claves_descifrado.append(lista_claves_decimal[i+1])\n",
    "        lista_claves_descifrado.append(lista_claves_decimal[i+3])\n",
    "        lista_claves_descifrado.extend(lista_claves_decimal[i-2:i])\n",
    "\n",
    "    lista_claves_descifrado.extend(lista_claves_decimal[0:4])\n",
    "\n",
    "    #print_bloque_16_a_hex(lista_claves_descifrado)\n",
    "    return [format(elem, \"016b\") for elem in lista_claves_descifrado]\n",
    "\n",
    "\n",
    "claves_intermedias_descifrar = generar_claves_intermedias_descifrado(clave_binaria)\n",
    "\n",
    "msj_cifrado_procesado = procesar_mensaje_binario(cadena_a_binario(\"䷜㎶㎜㎵㍱㎻㏖㏛\"))\n",
    "\n",
    "msj_claro_decimal = cifrar_descifrar_mensaje(msj_cifrado_procesado, claves_intermedias_descifrar)[0]\n",
    "\n",
    "msj_claro_binario = [format(elem, \"016b\") for elem in msj_claro_decimal]\n",
    "\n",
    "print(msj_claro_binario)\n",
    "\n",
    "for elem in msj_claro_binario:\n",
    "    print(alf[int(elem[0:8], 2)], alf[int(elem[8:17], 2)])\n",
    "\n"
   ]
  },
  {
   "cell_type": "code",
   "execution_count": null,
   "metadata": {},
   "outputs": [],
   "source": []
  }
 ]
}